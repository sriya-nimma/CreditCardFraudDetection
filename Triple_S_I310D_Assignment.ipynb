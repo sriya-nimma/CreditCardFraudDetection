{
  "nbformat": 4,
  "nbformat_minor": 0,
  "metadata": {
    "colab": {
      "provenance": [],
      "include_colab_link": true
    },
    "kernelspec": {
      "name": "python3",
      "display_name": "Python 3"
    },
    "language_info": {
      "name": "python"
    }
  },
  "cells": [
    {
      "cell_type": "markdown",
      "metadata": {
        "id": "view-in-github",
        "colab_type": "text"
      },
      "source": [
        "<a href=\"https://colab.research.google.com/github/sriya-nimma/CreditCardFraudDetection/blob/main/Triple_S_I310D_Assignment.ipynb\" target=\"_parent\"><img src=\"https://colab.research.google.com/assets/colab-badge.svg\" alt=\"Open In Colab\"/></a>"
      ]
    },
    {
      "cell_type": "markdown",
      "source": [
        "##Credit Card Fraud Detection Accuracy Model"
      ],
      "metadata": {
        "id": "RICSMFvt6u_r"
      }
    },
    {
      "cell_type": "markdown",
      "source": [
        "## STEP 1: Data Loading and Pre-Processing\n",
        "\n",
        "Import appropriate libraries and load dataset"
      ],
      "metadata": {
        "id": "eVczxKv761zj"
      }
    },
    {
      "cell_type": "code",
      "execution_count": null,
      "metadata": {
        "colab": {
          "base_uri": "https://localhost:8080/",
          "height": 325
        },
        "id": "AQcwLnKi340y",
        "outputId": "988df025-84fa-4dd6-a441-813a2845e176"
      },
      "outputs": [
        {
          "output_type": "stream",
          "name": "stderr",
          "text": [
            "<ipython-input-27-3b63f97a2aa2>:7: FutureWarning: The error_bad_lines argument has been deprecated and will be removed in a future version. Use on_bad_lines in the future.\n",
            "\n",
            "\n",
            "  df = pd.read_csv(\"creditcard_2023.csv\", error_bad_lines=False)\n"
          ]
        },
        {
          "output_type": "execute_result",
          "data": {
            "text/plain": [
              "       id        V1        V2        V3        V4        V5        V6  \\\n",
              "0  437378  0.420468 -0.070194 -0.569266  0.191673 -0.009607  0.426903   \n",
              "1  504222 -0.238944  0.250929 -0.374408  0.152938 -0.105008 -0.039028   \n",
              "2    4794 -0.117796 -0.147961  2.130455 -0.325762  0.325616  0.271351   \n",
              "3  388411 -0.855315  0.137014 -0.628116  0.613733 -0.643573 -0.664283   \n",
              "4  424512  0.257686  0.035247 -0.203112  0.506745 -0.242235 -0.192608   \n",
              "\n",
              "         V7        V8        V9  ...       V21       V22       V23       V24  \\\n",
              "0 -0.356728  0.096143  0.077806  ...  0.134969  0.070433  0.047770 -0.851622   \n",
              "1 -0.293004  0.133771 -0.591631  ...  0.192405  0.289441 -0.255187 -0.817462   \n",
              "2  0.772625 -0.244342  1.240012  ... -0.271739 -0.404654 -0.121235  0.857659   \n",
              "3 -0.880040  0.466586 -1.045508  ...  0.405505  0.167560  0.446262 -0.205976   \n",
              "4 -0.289297  0.044488 -0.396122  ...  0.162191  0.165912 -0.181999  0.331451   \n",
              "\n",
              "        V25       V26       V27       V28    Amount  Class  \n",
              "0  0.102876 -0.375436  0.820807  0.665983   8633.18      1  \n",
              "1  0.308284  1.582688  0.574425  0.478489  12299.55      1  \n",
              "2  0.541920  0.756534 -0.238177 -0.403038   5215.87      0  \n",
              "3  0.492582  0.658619  1.609128 -0.025592  19282.98      1  \n",
              "4  1.043095  0.029799  0.643273  0.736723  19114.27      1  \n",
              "\n",
              "[5 rows x 31 columns]"
            ],
            "text/html": [
              "\n",
              "  <div id=\"df-288b53de-5c2f-4f37-bdce-0b8ee3882442\" class=\"colab-df-container\">\n",
              "    <div>\n",
              "<style scoped>\n",
              "    .dataframe tbody tr th:only-of-type {\n",
              "        vertical-align: middle;\n",
              "    }\n",
              "\n",
              "    .dataframe tbody tr th {\n",
              "        vertical-align: top;\n",
              "    }\n",
              "\n",
              "    .dataframe thead th {\n",
              "        text-align: right;\n",
              "    }\n",
              "</style>\n",
              "<table border=\"1\" class=\"dataframe\">\n",
              "  <thead>\n",
              "    <tr style=\"text-align: right;\">\n",
              "      <th></th>\n",
              "      <th>id</th>\n",
              "      <th>V1</th>\n",
              "      <th>V2</th>\n",
              "      <th>V3</th>\n",
              "      <th>V4</th>\n",
              "      <th>V5</th>\n",
              "      <th>V6</th>\n",
              "      <th>V7</th>\n",
              "      <th>V8</th>\n",
              "      <th>V9</th>\n",
              "      <th>...</th>\n",
              "      <th>V21</th>\n",
              "      <th>V22</th>\n",
              "      <th>V23</th>\n",
              "      <th>V24</th>\n",
              "      <th>V25</th>\n",
              "      <th>V26</th>\n",
              "      <th>V27</th>\n",
              "      <th>V28</th>\n",
              "      <th>Amount</th>\n",
              "      <th>Class</th>\n",
              "    </tr>\n",
              "  </thead>\n",
              "  <tbody>\n",
              "    <tr>\n",
              "      <th>0</th>\n",
              "      <td>437378</td>\n",
              "      <td>0.420468</td>\n",
              "      <td>-0.070194</td>\n",
              "      <td>-0.569266</td>\n",
              "      <td>0.191673</td>\n",
              "      <td>-0.009607</td>\n",
              "      <td>0.426903</td>\n",
              "      <td>-0.356728</td>\n",
              "      <td>0.096143</td>\n",
              "      <td>0.077806</td>\n",
              "      <td>...</td>\n",
              "      <td>0.134969</td>\n",
              "      <td>0.070433</td>\n",
              "      <td>0.047770</td>\n",
              "      <td>-0.851622</td>\n",
              "      <td>0.102876</td>\n",
              "      <td>-0.375436</td>\n",
              "      <td>0.820807</td>\n",
              "      <td>0.665983</td>\n",
              "      <td>8633.18</td>\n",
              "      <td>1</td>\n",
              "    </tr>\n",
              "    <tr>\n",
              "      <th>1</th>\n",
              "      <td>504222</td>\n",
              "      <td>-0.238944</td>\n",
              "      <td>0.250929</td>\n",
              "      <td>-0.374408</td>\n",
              "      <td>0.152938</td>\n",
              "      <td>-0.105008</td>\n",
              "      <td>-0.039028</td>\n",
              "      <td>-0.293004</td>\n",
              "      <td>0.133771</td>\n",
              "      <td>-0.591631</td>\n",
              "      <td>...</td>\n",
              "      <td>0.192405</td>\n",
              "      <td>0.289441</td>\n",
              "      <td>-0.255187</td>\n",
              "      <td>-0.817462</td>\n",
              "      <td>0.308284</td>\n",
              "      <td>1.582688</td>\n",
              "      <td>0.574425</td>\n",
              "      <td>0.478489</td>\n",
              "      <td>12299.55</td>\n",
              "      <td>1</td>\n",
              "    </tr>\n",
              "    <tr>\n",
              "      <th>2</th>\n",
              "      <td>4794</td>\n",
              "      <td>-0.117796</td>\n",
              "      <td>-0.147961</td>\n",
              "      <td>2.130455</td>\n",
              "      <td>-0.325762</td>\n",
              "      <td>0.325616</td>\n",
              "      <td>0.271351</td>\n",
              "      <td>0.772625</td>\n",
              "      <td>-0.244342</td>\n",
              "      <td>1.240012</td>\n",
              "      <td>...</td>\n",
              "      <td>-0.271739</td>\n",
              "      <td>-0.404654</td>\n",
              "      <td>-0.121235</td>\n",
              "      <td>0.857659</td>\n",
              "      <td>0.541920</td>\n",
              "      <td>0.756534</td>\n",
              "      <td>-0.238177</td>\n",
              "      <td>-0.403038</td>\n",
              "      <td>5215.87</td>\n",
              "      <td>0</td>\n",
              "    </tr>\n",
              "    <tr>\n",
              "      <th>3</th>\n",
              "      <td>388411</td>\n",
              "      <td>-0.855315</td>\n",
              "      <td>0.137014</td>\n",
              "      <td>-0.628116</td>\n",
              "      <td>0.613733</td>\n",
              "      <td>-0.643573</td>\n",
              "      <td>-0.664283</td>\n",
              "      <td>-0.880040</td>\n",
              "      <td>0.466586</td>\n",
              "      <td>-1.045508</td>\n",
              "      <td>...</td>\n",
              "      <td>0.405505</td>\n",
              "      <td>0.167560</td>\n",
              "      <td>0.446262</td>\n",
              "      <td>-0.205976</td>\n",
              "      <td>0.492582</td>\n",
              "      <td>0.658619</td>\n",
              "      <td>1.609128</td>\n",
              "      <td>-0.025592</td>\n",
              "      <td>19282.98</td>\n",
              "      <td>1</td>\n",
              "    </tr>\n",
              "    <tr>\n",
              "      <th>4</th>\n",
              "      <td>424512</td>\n",
              "      <td>0.257686</td>\n",
              "      <td>0.035247</td>\n",
              "      <td>-0.203112</td>\n",
              "      <td>0.506745</td>\n",
              "      <td>-0.242235</td>\n",
              "      <td>-0.192608</td>\n",
              "      <td>-0.289297</td>\n",
              "      <td>0.044488</td>\n",
              "      <td>-0.396122</td>\n",
              "      <td>...</td>\n",
              "      <td>0.162191</td>\n",
              "      <td>0.165912</td>\n",
              "      <td>-0.181999</td>\n",
              "      <td>0.331451</td>\n",
              "      <td>1.043095</td>\n",
              "      <td>0.029799</td>\n",
              "      <td>0.643273</td>\n",
              "      <td>0.736723</td>\n",
              "      <td>19114.27</td>\n",
              "      <td>1</td>\n",
              "    </tr>\n",
              "  </tbody>\n",
              "</table>\n",
              "<p>5 rows × 31 columns</p>\n",
              "</div>\n",
              "    <div class=\"colab-df-buttons\">\n",
              "\n",
              "  <div class=\"colab-df-container\">\n",
              "    <button class=\"colab-df-convert\" onclick=\"convertToInteractive('df-288b53de-5c2f-4f37-bdce-0b8ee3882442')\"\n",
              "            title=\"Convert this dataframe to an interactive table.\"\n",
              "            style=\"display:none;\">\n",
              "\n",
              "  <svg xmlns=\"http://www.w3.org/2000/svg\" height=\"24px\" viewBox=\"0 -960 960 960\">\n",
              "    <path d=\"M120-120v-720h720v720H120Zm60-500h600v-160H180v160Zm220 220h160v-160H400v160Zm0 220h160v-160H400v160ZM180-400h160v-160H180v160Zm440 0h160v-160H620v160ZM180-180h160v-160H180v160Zm440 0h160v-160H620v160Z\"/>\n",
              "  </svg>\n",
              "    </button>\n",
              "\n",
              "  <style>\n",
              "    .colab-df-container {\n",
              "      display:flex;\n",
              "      gap: 12px;\n",
              "    }\n",
              "\n",
              "    .colab-df-convert {\n",
              "      background-color: #E8F0FE;\n",
              "      border: none;\n",
              "      border-radius: 50%;\n",
              "      cursor: pointer;\n",
              "      display: none;\n",
              "      fill: #1967D2;\n",
              "      height: 32px;\n",
              "      padding: 0 0 0 0;\n",
              "      width: 32px;\n",
              "    }\n",
              "\n",
              "    .colab-df-convert:hover {\n",
              "      background-color: #E2EBFA;\n",
              "      box-shadow: 0px 1px 2px rgba(60, 64, 67, 0.3), 0px 1px 3px 1px rgba(60, 64, 67, 0.15);\n",
              "      fill: #174EA6;\n",
              "    }\n",
              "\n",
              "    .colab-df-buttons div {\n",
              "      margin-bottom: 4px;\n",
              "    }\n",
              "\n",
              "    [theme=dark] .colab-df-convert {\n",
              "      background-color: #3B4455;\n",
              "      fill: #D2E3FC;\n",
              "    }\n",
              "\n",
              "    [theme=dark] .colab-df-convert:hover {\n",
              "      background-color: #434B5C;\n",
              "      box-shadow: 0px 1px 3px 1px rgba(0, 0, 0, 0.15);\n",
              "      filter: drop-shadow(0px 1px 2px rgba(0, 0, 0, 0.3));\n",
              "      fill: #FFFFFF;\n",
              "    }\n",
              "  </style>\n",
              "\n",
              "    <script>\n",
              "      const buttonEl =\n",
              "        document.querySelector('#df-288b53de-5c2f-4f37-bdce-0b8ee3882442 button.colab-df-convert');\n",
              "      buttonEl.style.display =\n",
              "        google.colab.kernel.accessAllowed ? 'block' : 'none';\n",
              "\n",
              "      async function convertToInteractive(key) {\n",
              "        const element = document.querySelector('#df-288b53de-5c2f-4f37-bdce-0b8ee3882442');\n",
              "        const dataTable =\n",
              "          await google.colab.kernel.invokeFunction('convertToInteractive',\n",
              "                                                    [key], {});\n",
              "        if (!dataTable) return;\n",
              "\n",
              "        const docLinkHtml = 'Like what you see? Visit the ' +\n",
              "          '<a target=\"_blank\" href=https://colab.research.google.com/notebooks/data_table.ipynb>data table notebook</a>'\n",
              "          + ' to learn more about interactive tables.';\n",
              "        element.innerHTML = '';\n",
              "        dataTable['output_type'] = 'display_data';\n",
              "        await google.colab.output.renderOutput(dataTable, element);\n",
              "        const docLink = document.createElement('div');\n",
              "        docLink.innerHTML = docLinkHtml;\n",
              "        element.appendChild(docLink);\n",
              "      }\n",
              "    </script>\n",
              "  </div>\n",
              "\n",
              "\n",
              "<div id=\"df-9bed04f5-6954-4115-84b6-8b97e4b97464\">\n",
              "  <button class=\"colab-df-quickchart\" onclick=\"quickchart('df-9bed04f5-6954-4115-84b6-8b97e4b97464')\"\n",
              "            title=\"Suggest charts\"\n",
              "            style=\"display:none;\">\n",
              "\n",
              "<svg xmlns=\"http://www.w3.org/2000/svg\" height=\"24px\"viewBox=\"0 0 24 24\"\n",
              "     width=\"24px\">\n",
              "    <g>\n",
              "        <path d=\"M19 3H5c-1.1 0-2 .9-2 2v14c0 1.1.9 2 2 2h14c1.1 0 2-.9 2-2V5c0-1.1-.9-2-2-2zM9 17H7v-7h2v7zm4 0h-2V7h2v10zm4 0h-2v-4h2v4z\"/>\n",
              "    </g>\n",
              "</svg>\n",
              "  </button>\n",
              "\n",
              "<style>\n",
              "  .colab-df-quickchart {\n",
              "      --bg-color: #E8F0FE;\n",
              "      --fill-color: #1967D2;\n",
              "      --hover-bg-color: #E2EBFA;\n",
              "      --hover-fill-color: #174EA6;\n",
              "      --disabled-fill-color: #AAA;\n",
              "      --disabled-bg-color: #DDD;\n",
              "  }\n",
              "\n",
              "  [theme=dark] .colab-df-quickchart {\n",
              "      --bg-color: #3B4455;\n",
              "      --fill-color: #D2E3FC;\n",
              "      --hover-bg-color: #434B5C;\n",
              "      --hover-fill-color: #FFFFFF;\n",
              "      --disabled-bg-color: #3B4455;\n",
              "      --disabled-fill-color: #666;\n",
              "  }\n",
              "\n",
              "  .colab-df-quickchart {\n",
              "    background-color: var(--bg-color);\n",
              "    border: none;\n",
              "    border-radius: 50%;\n",
              "    cursor: pointer;\n",
              "    display: none;\n",
              "    fill: var(--fill-color);\n",
              "    height: 32px;\n",
              "    padding: 0;\n",
              "    width: 32px;\n",
              "  }\n",
              "\n",
              "  .colab-df-quickchart:hover {\n",
              "    background-color: var(--hover-bg-color);\n",
              "    box-shadow: 0 1px 2px rgba(60, 64, 67, 0.3), 0 1px 3px 1px rgba(60, 64, 67, 0.15);\n",
              "    fill: var(--button-hover-fill-color);\n",
              "  }\n",
              "\n",
              "  .colab-df-quickchart-complete:disabled,\n",
              "  .colab-df-quickchart-complete:disabled:hover {\n",
              "    background-color: var(--disabled-bg-color);\n",
              "    fill: var(--disabled-fill-color);\n",
              "    box-shadow: none;\n",
              "  }\n",
              "\n",
              "  .colab-df-spinner {\n",
              "    border: 2px solid var(--fill-color);\n",
              "    border-color: transparent;\n",
              "    border-bottom-color: var(--fill-color);\n",
              "    animation:\n",
              "      spin 1s steps(1) infinite;\n",
              "  }\n",
              "\n",
              "  @keyframes spin {\n",
              "    0% {\n",
              "      border-color: transparent;\n",
              "      border-bottom-color: var(--fill-color);\n",
              "      border-left-color: var(--fill-color);\n",
              "    }\n",
              "    20% {\n",
              "      border-color: transparent;\n",
              "      border-left-color: var(--fill-color);\n",
              "      border-top-color: var(--fill-color);\n",
              "    }\n",
              "    30% {\n",
              "      border-color: transparent;\n",
              "      border-left-color: var(--fill-color);\n",
              "      border-top-color: var(--fill-color);\n",
              "      border-right-color: var(--fill-color);\n",
              "    }\n",
              "    40% {\n",
              "      border-color: transparent;\n",
              "      border-right-color: var(--fill-color);\n",
              "      border-top-color: var(--fill-color);\n",
              "    }\n",
              "    60% {\n",
              "      border-color: transparent;\n",
              "      border-right-color: var(--fill-color);\n",
              "    }\n",
              "    80% {\n",
              "      border-color: transparent;\n",
              "      border-right-color: var(--fill-color);\n",
              "      border-bottom-color: var(--fill-color);\n",
              "    }\n",
              "    90% {\n",
              "      border-color: transparent;\n",
              "      border-bottom-color: var(--fill-color);\n",
              "    }\n",
              "  }\n",
              "</style>\n",
              "\n",
              "  <script>\n",
              "    async function quickchart(key) {\n",
              "      const quickchartButtonEl =\n",
              "        document.querySelector('#' + key + ' button');\n",
              "      quickchartButtonEl.disabled = true;  // To prevent multiple clicks.\n",
              "      quickchartButtonEl.classList.add('colab-df-spinner');\n",
              "      try {\n",
              "        const charts = await google.colab.kernel.invokeFunction(\n",
              "            'suggestCharts', [key], {});\n",
              "      } catch (error) {\n",
              "        console.error('Error during call to suggestCharts:', error);\n",
              "      }\n",
              "      quickchartButtonEl.classList.remove('colab-df-spinner');\n",
              "      quickchartButtonEl.classList.add('colab-df-quickchart-complete');\n",
              "    }\n",
              "    (() => {\n",
              "      let quickchartButtonEl =\n",
              "        document.querySelector('#df-9bed04f5-6954-4115-84b6-8b97e4b97464 button');\n",
              "      quickchartButtonEl.style.display =\n",
              "        google.colab.kernel.accessAllowed ? 'block' : 'none';\n",
              "    })();\n",
              "  </script>\n",
              "</div>\n",
              "    </div>\n",
              "  </div>\n"
            ]
          },
          "metadata": {},
          "execution_count": 27
        }
      ],
      "source": [
        "import pandas as pd\n",
        "from sklearn.model_selection import train_test_split\n",
        "import matplotlib.pyplot as plt\n",
        "import matplotlib as mpl\n",
        "import seaborn as sns\n",
        "\n",
        "df = pd.read_csv(\"creditcard_2023.csv\", error_bad_lines=False)\n",
        "df = df.reset_index()\n",
        "\n",
        "#have to randomize the rows because in the initial dataframe, the first half is all 0s for output and the second half is all 1,\n",
        "#this throws an exception when training the model\n",
        "\n",
        "\n",
        "main_df = df.sample(frac=1, random_state=42)  # Setting random_state for reproducibility\n",
        "main_df = main_df.reset_index(drop=True)\n",
        "main_df = main_df.drop('index', axis = 1)\n",
        "\n",
        "main_df.head()"
      ]
    },
    {
      "cell_type": "markdown",
      "source": [
        "## STEP 2: DATA CLEANING\n",
        "\n",
        "Check for duplicate and null rows. Remove if found"
      ],
      "metadata": {
        "id": "lPqcrmQP7CQ8"
      }
    },
    {
      "cell_type": "code",
      "source": [
        "#clean duplicate rows\n",
        "duplicate_rows = main_df[df.duplicated()]\n",
        "if duplicate_rows.empty:\n",
        "    print(\"No duplicate rows found.\")\n",
        "else:\n",
        "    print(\"Duplicate rows found:\")\n",
        "    print(duplicate_rows)"
      ],
      "metadata": {
        "colab": {
          "base_uri": "https://localhost:8080/"
        },
        "id": "QVs4pnW7-qMN",
        "outputId": "870cc756-e711-409a-d11b-dacb83bed59b"
      },
      "execution_count": null,
      "outputs": [
        {
          "output_type": "stream",
          "name": "stdout",
          "text": [
            "No duplicate rows found.\n"
          ]
        }
      ]
    },
    {
      "cell_type": "code",
      "source": [
        "null_counts = main_df.isnull().sum()\n",
        "print(null_counts)"
      ],
      "metadata": {
        "colab": {
          "base_uri": "https://localhost:8080/"
        },
        "id": "_7dZqW8K9ckX",
        "outputId": "fc97a433-eac9-4b45-be5a-3ff09d15ab1d"
      },
      "execution_count": null,
      "outputs": [
        {
          "output_type": "stream",
          "name": "stdout",
          "text": [
            "id        0\n",
            "V1        0\n",
            "V2        0\n",
            "V3        0\n",
            "V4        0\n",
            "V5        0\n",
            "V6        0\n",
            "V7        0\n",
            "V8        0\n",
            "V9        0\n",
            "V10       0\n",
            "V11       0\n",
            "V12       0\n",
            "V13       0\n",
            "V14       0\n",
            "V15       0\n",
            "V16       0\n",
            "V17       0\n",
            "V18       0\n",
            "V19       0\n",
            "V20       0\n",
            "V21       0\n",
            "V22       0\n",
            "V23       0\n",
            "V24       0\n",
            "V25       0\n",
            "V26       0\n",
            "V27       0\n",
            "V28       0\n",
            "Amount    0\n",
            "Class     0\n",
            "dtype: int64\n"
          ]
        }
      ]
    },
    {
      "cell_type": "markdown",
      "source": [
        " The data looks clean. There are no duplicates, there are no null values to deal with, and the data type is consistent throughout."
      ],
      "metadata": {
        "id": "LxlzTREg-X7K"
      }
    },
    {
      "cell_type": "markdown",
      "source": [
        "## Create training and testing datasets"
      ],
      "metadata": {
        "id": "kpjqZ_j79HHL"
      }
    },
    {
      "cell_type": "code",
      "source": [
        "train_df = main_df.iloc[:1000, :32]\n",
        "test_df = main_df.iloc[1000:2000, :32]\n",
        "\n",
        "train_df.head()"
      ],
      "metadata": {
        "colab": {
          "base_uri": "https://localhost:8080/",
          "height": 256
        },
        "id": "FkyKiZhEvutk",
        "outputId": "c63d1da7-7f14-43cd-cab2-02d667227652"
      },
      "execution_count": null,
      "outputs": [
        {
          "output_type": "execute_result",
          "data": {
            "text/plain": [
              "       id        V1        V2        V3        V4        V5        V6  \\\n",
              "0  437378  0.420468 -0.070194 -0.569266  0.191673 -0.009607  0.426903   \n",
              "1  504222 -0.238944  0.250929 -0.374408  0.152938 -0.105008 -0.039028   \n",
              "2    4794 -0.117796 -0.147961  2.130455 -0.325762  0.325616  0.271351   \n",
              "3  388411 -0.855315  0.137014 -0.628116  0.613733 -0.643573 -0.664283   \n",
              "4  424512  0.257686  0.035247 -0.203112  0.506745 -0.242235 -0.192608   \n",
              "\n",
              "         V7        V8        V9  ...       V21       V22       V23       V24  \\\n",
              "0 -0.356728  0.096143  0.077806  ...  0.134969  0.070433  0.047770 -0.851622   \n",
              "1 -0.293004  0.133771 -0.591631  ...  0.192405  0.289441 -0.255187 -0.817462   \n",
              "2  0.772625 -0.244342  1.240012  ... -0.271739 -0.404654 -0.121235  0.857659   \n",
              "3 -0.880040  0.466586 -1.045508  ...  0.405505  0.167560  0.446262 -0.205976   \n",
              "4 -0.289297  0.044488 -0.396122  ...  0.162191  0.165912 -0.181999  0.331451   \n",
              "\n",
              "        V25       V26       V27       V28    Amount  Class  \n",
              "0  0.102876 -0.375436  0.820807  0.665983   8633.18      1  \n",
              "1  0.308284  1.582688  0.574425  0.478489  12299.55      1  \n",
              "2  0.541920  0.756534 -0.238177 -0.403038   5215.87      0  \n",
              "3  0.492582  0.658619  1.609128 -0.025592  19282.98      1  \n",
              "4  1.043095  0.029799  0.643273  0.736723  19114.27      1  \n",
              "\n",
              "[5 rows x 31 columns]"
            ],
            "text/html": [
              "\n",
              "  <div id=\"df-2a4807bc-814b-4ef1-b5a3-46ba070fb39b\" class=\"colab-df-container\">\n",
              "    <div>\n",
              "<style scoped>\n",
              "    .dataframe tbody tr th:only-of-type {\n",
              "        vertical-align: middle;\n",
              "    }\n",
              "\n",
              "    .dataframe tbody tr th {\n",
              "        vertical-align: top;\n",
              "    }\n",
              "\n",
              "    .dataframe thead th {\n",
              "        text-align: right;\n",
              "    }\n",
              "</style>\n",
              "<table border=\"1\" class=\"dataframe\">\n",
              "  <thead>\n",
              "    <tr style=\"text-align: right;\">\n",
              "      <th></th>\n",
              "      <th>id</th>\n",
              "      <th>V1</th>\n",
              "      <th>V2</th>\n",
              "      <th>V3</th>\n",
              "      <th>V4</th>\n",
              "      <th>V5</th>\n",
              "      <th>V6</th>\n",
              "      <th>V7</th>\n",
              "      <th>V8</th>\n",
              "      <th>V9</th>\n",
              "      <th>...</th>\n",
              "      <th>V21</th>\n",
              "      <th>V22</th>\n",
              "      <th>V23</th>\n",
              "      <th>V24</th>\n",
              "      <th>V25</th>\n",
              "      <th>V26</th>\n",
              "      <th>V27</th>\n",
              "      <th>V28</th>\n",
              "      <th>Amount</th>\n",
              "      <th>Class</th>\n",
              "    </tr>\n",
              "  </thead>\n",
              "  <tbody>\n",
              "    <tr>\n",
              "      <th>0</th>\n",
              "      <td>437378</td>\n",
              "      <td>0.420468</td>\n",
              "      <td>-0.070194</td>\n",
              "      <td>-0.569266</td>\n",
              "      <td>0.191673</td>\n",
              "      <td>-0.009607</td>\n",
              "      <td>0.426903</td>\n",
              "      <td>-0.356728</td>\n",
              "      <td>0.096143</td>\n",
              "      <td>0.077806</td>\n",
              "      <td>...</td>\n",
              "      <td>0.134969</td>\n",
              "      <td>0.070433</td>\n",
              "      <td>0.047770</td>\n",
              "      <td>-0.851622</td>\n",
              "      <td>0.102876</td>\n",
              "      <td>-0.375436</td>\n",
              "      <td>0.820807</td>\n",
              "      <td>0.665983</td>\n",
              "      <td>8633.18</td>\n",
              "      <td>1</td>\n",
              "    </tr>\n",
              "    <tr>\n",
              "      <th>1</th>\n",
              "      <td>504222</td>\n",
              "      <td>-0.238944</td>\n",
              "      <td>0.250929</td>\n",
              "      <td>-0.374408</td>\n",
              "      <td>0.152938</td>\n",
              "      <td>-0.105008</td>\n",
              "      <td>-0.039028</td>\n",
              "      <td>-0.293004</td>\n",
              "      <td>0.133771</td>\n",
              "      <td>-0.591631</td>\n",
              "      <td>...</td>\n",
              "      <td>0.192405</td>\n",
              "      <td>0.289441</td>\n",
              "      <td>-0.255187</td>\n",
              "      <td>-0.817462</td>\n",
              "      <td>0.308284</td>\n",
              "      <td>1.582688</td>\n",
              "      <td>0.574425</td>\n",
              "      <td>0.478489</td>\n",
              "      <td>12299.55</td>\n",
              "      <td>1</td>\n",
              "    </tr>\n",
              "    <tr>\n",
              "      <th>2</th>\n",
              "      <td>4794</td>\n",
              "      <td>-0.117796</td>\n",
              "      <td>-0.147961</td>\n",
              "      <td>2.130455</td>\n",
              "      <td>-0.325762</td>\n",
              "      <td>0.325616</td>\n",
              "      <td>0.271351</td>\n",
              "      <td>0.772625</td>\n",
              "      <td>-0.244342</td>\n",
              "      <td>1.240012</td>\n",
              "      <td>...</td>\n",
              "      <td>-0.271739</td>\n",
              "      <td>-0.404654</td>\n",
              "      <td>-0.121235</td>\n",
              "      <td>0.857659</td>\n",
              "      <td>0.541920</td>\n",
              "      <td>0.756534</td>\n",
              "      <td>-0.238177</td>\n",
              "      <td>-0.403038</td>\n",
              "      <td>5215.87</td>\n",
              "      <td>0</td>\n",
              "    </tr>\n",
              "    <tr>\n",
              "      <th>3</th>\n",
              "      <td>388411</td>\n",
              "      <td>-0.855315</td>\n",
              "      <td>0.137014</td>\n",
              "      <td>-0.628116</td>\n",
              "      <td>0.613733</td>\n",
              "      <td>-0.643573</td>\n",
              "      <td>-0.664283</td>\n",
              "      <td>-0.880040</td>\n",
              "      <td>0.466586</td>\n",
              "      <td>-1.045508</td>\n",
              "      <td>...</td>\n",
              "      <td>0.405505</td>\n",
              "      <td>0.167560</td>\n",
              "      <td>0.446262</td>\n",
              "      <td>-0.205976</td>\n",
              "      <td>0.492582</td>\n",
              "      <td>0.658619</td>\n",
              "      <td>1.609128</td>\n",
              "      <td>-0.025592</td>\n",
              "      <td>19282.98</td>\n",
              "      <td>1</td>\n",
              "    </tr>\n",
              "    <tr>\n",
              "      <th>4</th>\n",
              "      <td>424512</td>\n",
              "      <td>0.257686</td>\n",
              "      <td>0.035247</td>\n",
              "      <td>-0.203112</td>\n",
              "      <td>0.506745</td>\n",
              "      <td>-0.242235</td>\n",
              "      <td>-0.192608</td>\n",
              "      <td>-0.289297</td>\n",
              "      <td>0.044488</td>\n",
              "      <td>-0.396122</td>\n",
              "      <td>...</td>\n",
              "      <td>0.162191</td>\n",
              "      <td>0.165912</td>\n",
              "      <td>-0.181999</td>\n",
              "      <td>0.331451</td>\n",
              "      <td>1.043095</td>\n",
              "      <td>0.029799</td>\n",
              "      <td>0.643273</td>\n",
              "      <td>0.736723</td>\n",
              "      <td>19114.27</td>\n",
              "      <td>1</td>\n",
              "    </tr>\n",
              "  </tbody>\n",
              "</table>\n",
              "<p>5 rows × 31 columns</p>\n",
              "</div>\n",
              "    <div class=\"colab-df-buttons\">\n",
              "\n",
              "  <div class=\"colab-df-container\">\n",
              "    <button class=\"colab-df-convert\" onclick=\"convertToInteractive('df-2a4807bc-814b-4ef1-b5a3-46ba070fb39b')\"\n",
              "            title=\"Convert this dataframe to an interactive table.\"\n",
              "            style=\"display:none;\">\n",
              "\n",
              "  <svg xmlns=\"http://www.w3.org/2000/svg\" height=\"24px\" viewBox=\"0 -960 960 960\">\n",
              "    <path d=\"M120-120v-720h720v720H120Zm60-500h600v-160H180v160Zm220 220h160v-160H400v160Zm0 220h160v-160H400v160ZM180-400h160v-160H180v160Zm440 0h160v-160H620v160ZM180-180h160v-160H180v160Zm440 0h160v-160H620v160Z\"/>\n",
              "  </svg>\n",
              "    </button>\n",
              "\n",
              "  <style>\n",
              "    .colab-df-container {\n",
              "      display:flex;\n",
              "      gap: 12px;\n",
              "    }\n",
              "\n",
              "    .colab-df-convert {\n",
              "      background-color: #E8F0FE;\n",
              "      border: none;\n",
              "      border-radius: 50%;\n",
              "      cursor: pointer;\n",
              "      display: none;\n",
              "      fill: #1967D2;\n",
              "      height: 32px;\n",
              "      padding: 0 0 0 0;\n",
              "      width: 32px;\n",
              "    }\n",
              "\n",
              "    .colab-df-convert:hover {\n",
              "      background-color: #E2EBFA;\n",
              "      box-shadow: 0px 1px 2px rgba(60, 64, 67, 0.3), 0px 1px 3px 1px rgba(60, 64, 67, 0.15);\n",
              "      fill: #174EA6;\n",
              "    }\n",
              "\n",
              "    .colab-df-buttons div {\n",
              "      margin-bottom: 4px;\n",
              "    }\n",
              "\n",
              "    [theme=dark] .colab-df-convert {\n",
              "      background-color: #3B4455;\n",
              "      fill: #D2E3FC;\n",
              "    }\n",
              "\n",
              "    [theme=dark] .colab-df-convert:hover {\n",
              "      background-color: #434B5C;\n",
              "      box-shadow: 0px 1px 3px 1px rgba(0, 0, 0, 0.15);\n",
              "      filter: drop-shadow(0px 1px 2px rgba(0, 0, 0, 0.3));\n",
              "      fill: #FFFFFF;\n",
              "    }\n",
              "  </style>\n",
              "\n",
              "    <script>\n",
              "      const buttonEl =\n",
              "        document.querySelector('#df-2a4807bc-814b-4ef1-b5a3-46ba070fb39b button.colab-df-convert');\n",
              "      buttonEl.style.display =\n",
              "        google.colab.kernel.accessAllowed ? 'block' : 'none';\n",
              "\n",
              "      async function convertToInteractive(key) {\n",
              "        const element = document.querySelector('#df-2a4807bc-814b-4ef1-b5a3-46ba070fb39b');\n",
              "        const dataTable =\n",
              "          await google.colab.kernel.invokeFunction('convertToInteractive',\n",
              "                                                    [key], {});\n",
              "        if (!dataTable) return;\n",
              "\n",
              "        const docLinkHtml = 'Like what you see? Visit the ' +\n",
              "          '<a target=\"_blank\" href=https://colab.research.google.com/notebooks/data_table.ipynb>data table notebook</a>'\n",
              "          + ' to learn more about interactive tables.';\n",
              "        element.innerHTML = '';\n",
              "        dataTable['output_type'] = 'display_data';\n",
              "        await google.colab.output.renderOutput(dataTable, element);\n",
              "        const docLink = document.createElement('div');\n",
              "        docLink.innerHTML = docLinkHtml;\n",
              "        element.appendChild(docLink);\n",
              "      }\n",
              "    </script>\n",
              "  </div>\n",
              "\n",
              "\n",
              "<div id=\"df-d13c3fd8-6ede-4f56-a8d5-25fb04679949\">\n",
              "  <button class=\"colab-df-quickchart\" onclick=\"quickchart('df-d13c3fd8-6ede-4f56-a8d5-25fb04679949')\"\n",
              "            title=\"Suggest charts\"\n",
              "            style=\"display:none;\">\n",
              "\n",
              "<svg xmlns=\"http://www.w3.org/2000/svg\" height=\"24px\"viewBox=\"0 0 24 24\"\n",
              "     width=\"24px\">\n",
              "    <g>\n",
              "        <path d=\"M19 3H5c-1.1 0-2 .9-2 2v14c0 1.1.9 2 2 2h14c1.1 0 2-.9 2-2V5c0-1.1-.9-2-2-2zM9 17H7v-7h2v7zm4 0h-2V7h2v10zm4 0h-2v-4h2v4z\"/>\n",
              "    </g>\n",
              "</svg>\n",
              "  </button>\n",
              "\n",
              "<style>\n",
              "  .colab-df-quickchart {\n",
              "      --bg-color: #E8F0FE;\n",
              "      --fill-color: #1967D2;\n",
              "      --hover-bg-color: #E2EBFA;\n",
              "      --hover-fill-color: #174EA6;\n",
              "      --disabled-fill-color: #AAA;\n",
              "      --disabled-bg-color: #DDD;\n",
              "  }\n",
              "\n",
              "  [theme=dark] .colab-df-quickchart {\n",
              "      --bg-color: #3B4455;\n",
              "      --fill-color: #D2E3FC;\n",
              "      --hover-bg-color: #434B5C;\n",
              "      --hover-fill-color: #FFFFFF;\n",
              "      --disabled-bg-color: #3B4455;\n",
              "      --disabled-fill-color: #666;\n",
              "  }\n",
              "\n",
              "  .colab-df-quickchart {\n",
              "    background-color: var(--bg-color);\n",
              "    border: none;\n",
              "    border-radius: 50%;\n",
              "    cursor: pointer;\n",
              "    display: none;\n",
              "    fill: var(--fill-color);\n",
              "    height: 32px;\n",
              "    padding: 0;\n",
              "    width: 32px;\n",
              "  }\n",
              "\n",
              "  .colab-df-quickchart:hover {\n",
              "    background-color: var(--hover-bg-color);\n",
              "    box-shadow: 0 1px 2px rgba(60, 64, 67, 0.3), 0 1px 3px 1px rgba(60, 64, 67, 0.15);\n",
              "    fill: var(--button-hover-fill-color);\n",
              "  }\n",
              "\n",
              "  .colab-df-quickchart-complete:disabled,\n",
              "  .colab-df-quickchart-complete:disabled:hover {\n",
              "    background-color: var(--disabled-bg-color);\n",
              "    fill: var(--disabled-fill-color);\n",
              "    box-shadow: none;\n",
              "  }\n",
              "\n",
              "  .colab-df-spinner {\n",
              "    border: 2px solid var(--fill-color);\n",
              "    border-color: transparent;\n",
              "    border-bottom-color: var(--fill-color);\n",
              "    animation:\n",
              "      spin 1s steps(1) infinite;\n",
              "  }\n",
              "\n",
              "  @keyframes spin {\n",
              "    0% {\n",
              "      border-color: transparent;\n",
              "      border-bottom-color: var(--fill-color);\n",
              "      border-left-color: var(--fill-color);\n",
              "    }\n",
              "    20% {\n",
              "      border-color: transparent;\n",
              "      border-left-color: var(--fill-color);\n",
              "      border-top-color: var(--fill-color);\n",
              "    }\n",
              "    30% {\n",
              "      border-color: transparent;\n",
              "      border-left-color: var(--fill-color);\n",
              "      border-top-color: var(--fill-color);\n",
              "      border-right-color: var(--fill-color);\n",
              "    }\n",
              "    40% {\n",
              "      border-color: transparent;\n",
              "      border-right-color: var(--fill-color);\n",
              "      border-top-color: var(--fill-color);\n",
              "    }\n",
              "    60% {\n",
              "      border-color: transparent;\n",
              "      border-right-color: var(--fill-color);\n",
              "    }\n",
              "    80% {\n",
              "      border-color: transparent;\n",
              "      border-right-color: var(--fill-color);\n",
              "      border-bottom-color: var(--fill-color);\n",
              "    }\n",
              "    90% {\n",
              "      border-color: transparent;\n",
              "      border-bottom-color: var(--fill-color);\n",
              "    }\n",
              "  }\n",
              "</style>\n",
              "\n",
              "  <script>\n",
              "    async function quickchart(key) {\n",
              "      const quickchartButtonEl =\n",
              "        document.querySelector('#' + key + ' button');\n",
              "      quickchartButtonEl.disabled = true;  // To prevent multiple clicks.\n",
              "      quickchartButtonEl.classList.add('colab-df-spinner');\n",
              "      try {\n",
              "        const charts = await google.colab.kernel.invokeFunction(\n",
              "            'suggestCharts', [key], {});\n",
              "      } catch (error) {\n",
              "        console.error('Error during call to suggestCharts:', error);\n",
              "      }\n",
              "      quickchartButtonEl.classList.remove('colab-df-spinner');\n",
              "      quickchartButtonEl.classList.add('colab-df-quickchart-complete');\n",
              "    }\n",
              "    (() => {\n",
              "      let quickchartButtonEl =\n",
              "        document.querySelector('#df-d13c3fd8-6ede-4f56-a8d5-25fb04679949 button');\n",
              "      quickchartButtonEl.style.display =\n",
              "        google.colab.kernel.accessAllowed ? 'block' : 'none';\n",
              "    })();\n",
              "  </script>\n",
              "</div>\n",
              "    </div>\n",
              "  </div>\n"
            ]
          },
          "metadata": {},
          "execution_count": 30
        }
      ]
    },
    {
      "cell_type": "markdown",
      "source": [
        "## STEP 3: Determine which variables are mostly correlated if not all\n",
        "\n",
        "Created a heatmap to help visualize which variables are mostly correlated to eachother"
      ],
      "metadata": {
        "id": "xC7UbIjK7QP0"
      }
    },
    {
      "cell_type": "code",
      "source": [
        "#correlation matrix\n",
        "\n",
        "df_noID = main_df.drop('id', axis = 1)\n",
        "\n",
        "correlation_matrix = df_noID.corr()\n",
        "\n",
        "#visualize heatmap\n",
        "plt.figure(figsize=(10,8))\n",
        "sns.heatmap(correlation_matrix, annot=False, cmap = 'coolwarm', fmt = '.2f', linewidths=0.5)\n",
        "plt.title(\"Correlation Matrix\")\n",
        "plt.show()\n",
        "\n"
      ],
      "metadata": {
        "colab": {
          "base_uri": "https://localhost:8080/",
          "height": 739
        },
        "id": "Hnr5NFl4Kv6a",
        "outputId": "8ef33fbf-c45d-4af5-ceac-4bafa989e5c1"
      },
      "execution_count": null,
      "outputs": [
        {
          "output_type": "display_data",
          "data": {
            "text/plain": [
              "<Figure size 1000x800 with 2 Axes>"
            ],
            "image/png": "[encoded data removed]"
          },
          "metadata": {}
        }
      ]
    },
    {
      "cell_type": "markdown",
      "source": [
        "The correlation matrix does not show signs of concern of removing features that are highly correlated. However, V1 to V18 are more correlated than the other features."
      ],
      "metadata": {
        "id": "yKWbYrtXMa5h"
      }
    },
    {
      "cell_type": "markdown",
      "source": [
        "Now let's check if there is any correlation between the transaction amount and whether it is fraudulent or not, so we can train our model based on that. To see this, we can make a scatterplot to see if there is a correlation between the two values."
      ],
      "metadata": {
        "id": "vvCZqwJxZapd"
      }
    },
    {
      "cell_type": "code",
      "source": [
        "import scipy\n",
        "from matplotlib import pyplot as plt\n",
        "\n",
        "transaction_amount = main_df[\"Amount\"]\n",
        "fraud_or_not = main_df[\"Class\"]\n",
        "\n",
        "plt.scatter(transaction_amount,fraud_or_not,marker=\".\")\n",
        "\n",
        "plt.xlabel(\"Transaction Amount\")\n",
        "plt.ylabel(\"Fraudulent or Not\")\n",
        "\n",
        "plt.title(\"Does the Amount of the Transaction correlate to whether it's fradulent or not?\")"
      ],
      "metadata": {
        "id": "KwPRXyxiWeV8",
        "colab": {
          "base_uri": "https://localhost:8080/",
          "height": 489
        },
        "outputId": "a855a698-4f02-4779-80a9-008d4c16cb40"
      },
      "execution_count": null,
      "outputs": [
        {
          "output_type": "execute_result",
          "data": {
            "text/plain": [
              "Text(0.5, 1.0, \"Does the Amount of the Transaction correlate to whether it's fradulent or not?\")"
            ]
          },
          "metadata": {},
          "execution_count": 32
        },
        {
          "output_type": "display_data",
          "data": {
            "text/plain": [
              "<Figure size 640x480 with 1 Axes>"
            ],
            "image/png": "[encoded data removed]"
          },
          "metadata": {}
        }
      ]
    },
    {
      "cell_type": "markdown",
      "source": [
        "As the scatterplot has shown us, there is no visible correlation between the amount of the transaction and whether it is fraudulent or not, as transactions of the same amount have both been fraudlent and genuine. Therefore, we don't need to account for this when training our model since the dataset shows that 50% are fraud and 50% are not fraudulenet. This means that we don't have to deal with unbalance in the model."
      ],
      "metadata": {
        "id": "Iuv82hlUZvV5"
      }
    },
    {
      "cell_type": "markdown",
      "source": [
        "## Training the Model\n",
        "\n",
        "Determine which variables to train the data with for the model. This model is using all the variables from V1 to V28."
      ],
      "metadata": {
        "id": "0pX6rQnP8itx"
      }
    },
    {
      "cell_type": "code",
      "source": [
        "\n",
        "train_features = train_df.drop(['id', 'Class', 'Amount'], axis = 1)\n",
        "train_labels = train_df[\"Class\"]\n",
        "\n",
        "train_features.head()\n",
        "\n",
        "train_labels.head()"
      ],
      "metadata": {
        "colab": {
          "base_uri": "https://localhost:8080/"
        },
        "id": "Lwu836bEKl1p",
        "outputId": "843b99e2-ca35-49a6-8ecc-2296cae19d97"
      },
      "execution_count": null,
      "outputs": [
        {
          "output_type": "execute_result",
          "data": {
            "text/plain": [
              "0    1\n",
              "1    1\n",
              "2    0\n",
              "3    1\n",
              "4    1\n",
              "Name: Class, dtype: int64"
            ]
          },
          "metadata": {},
          "execution_count": 33
        }
      ]
    },
    {
      "cell_type": "markdown",
      "source": [
        "## Define the Models\n",
        "\n",
        "Defined a logistic regression, MLP, Decision Tree, and Random Forest classifer"
      ],
      "metadata": {
        "id": "m8mcfe2c8xTQ"
      }
    },
    {
      "cell_type": "code",
      "source": [
        "# Define our models\n",
        "from sklearn.linear_model import LogisticRegression\n",
        "from sklearn.neural_network import MLPClassifier\n",
        "from sklearn.tree import DecisionTreeClassifier\n",
        "from sklearn.ensemble import RandomForestClassifier\n",
        "\n",
        "\n",
        "lr_classifier = LogisticRegression(solver='lbfgs',max_iter=150)\n",
        "mlp_classifier = MLPClassifier(solver='lbfgs', max_iter=150)\n",
        "dt_classifier = DecisionTreeClassifier(random_state=42)\n",
        "rf_classifier = RandomForestClassifier(n_estimators=150, random_state=42)\n",
        "\n",
        "# train our models\n",
        "lr_classifier.fit(train_features.to_numpy(),train_labels.to_numpy())\n",
        "mlp_classifier.fit(train_features.to_numpy(),train_labels.to_numpy())\n",
        "dt_classifier.fit(train_features.to_numpy(), train_labels.to_numpy())\n",
        "rf_classifier.fit(train_features.to_numpy(), train_labels.to_numpy())\n"
      ],
      "metadata": {
        "colab": {
          "base_uri": "https://localhost:8080/",
          "height": 75
        },
        "id": "Xu9xBGm5Gq1S",
        "outputId": "808bcef4-0f1f-4c8d-cfe8-ab59de176b63"
      },
      "execution_count": null,
      "outputs": [
        {
          "output_type": "execute_result",
          "data": {
            "text/plain": [
              "RandomForestClassifier(n_estimators=150, random_state=42)"
            ],
            "text/html": [
              "<style>#sk-container-id-5 {color: black;background-color: white;}#sk-container-id-5 pre{padding: 0;}#sk-container-id-5 div.sk-toggleable {background-color: white;}#sk-container-id-5 label.sk-toggleable__label {cursor: pointer;display: block;width: 100%;margin-bottom: 0;padding: 0.3em;box-sizing: border-box;text-align: center;}#sk-container-id-5 label.sk-toggleable__label-arrow:before {content: \"▸\";float: left;margin-right: 0.25em;color: #696969;}#sk-container-id-5 label.sk-toggleable__label-arrow:hover:before {color: black;}#sk-container-id-5 div.sk-estimator:hover label.sk-toggleable__label-arrow:before {color: black;}#sk-container-id-5 div.sk-toggleable__content {max-height: 0;max-width: 0;overflow: hidden;text-align: left;background-color: #f0f8ff;}#sk-container-id-5 div.sk-toggleable__content pre {margin: 0.2em;color: black;border-radius: 0.25em;background-color: #f0f8ff;}#sk-container-id-5 input.sk-toggleable__control:checked~div.sk-toggleable__content {max-height: 200px;max-width: 100%;overflow: auto;}#sk-container-id-5 input.sk-toggleable__control:checked~label.sk-toggleable__label-arrow:before {content: \"▾\";}#sk-container-id-5 div.sk-estimator input.sk-toggleable__control:checked~label.sk-toggleable__label {background-color: #d4ebff;}#sk-container-id-5 div.sk-label input.sk-toggleable__control:checked~label.sk-toggleable__label {background-color: #d4ebff;}#sk-container-id-5 input.sk-hidden--visually {border: 0;clip: rect(1px 1px 1px 1px);clip: rect(1px, 1px, 1px, 1px);height: 1px;margin: -1px;overflow: hidden;padding: 0;position: absolute;width: 1px;}#sk-container-id-5 div.sk-estimator {font-family: monospace;background-color: #f0f8ff;border: 1px dotted black;border-radius: 0.25em;box-sizing: border-box;margin-bottom: 0.5em;}#sk-container-id-5 div.sk-estimator:hover {background-color: #d4ebff;}#sk-container-id-5 div.sk-parallel-item::after {content: \"\";width: 100%;border-bottom: 1px solid gray;flex-grow: 1;}#sk-container-id-5 div.sk-label:hover label.sk-toggleable__label {background-color: #d4ebff;}#sk-container-id-5 div.sk-serial::before {content: \"\";position: absolute;border-left: 1px solid gray;box-sizing: border-box;top: 0;bottom: 0;left: 50%;z-index: 0;}#sk-container-id-5 div.sk-serial {display: flex;flex-direction: column;align-items: center;background-color: white;padding-right: 0.2em;padding-left: 0.2em;position: relative;}#sk-container-id-5 div.sk-item {position: relative;z-index: 1;}#sk-container-id-5 div.sk-parallel {display: flex;align-items: stretch;justify-content: center;background-color: white;position: relative;}#sk-container-id-5 div.sk-item::before, #sk-container-id-5 div.sk-parallel-item::before {content: \"\";position: absolute;border-left: 1px solid gray;box-sizing: border-box;top: 0;bottom: 0;left: 50%;z-index: -1;}#sk-container-id-5 div.sk-parallel-item {display: flex;flex-direction: column;z-index: 1;position: relative;background-color: white;}#sk-container-id-5 div.sk-parallel-item:first-child::after {align-self: flex-end;width: 50%;}#sk-container-id-5 div.sk-parallel-item:last-child::after {align-self: flex-start;width: 50%;}#sk-container-id-5 div.sk-parallel-item:only-child::after {width: 0;}#sk-container-id-5 div.sk-dashed-wrapped {border: 1px dashed gray;margin: 0 0.4em 0.5em 0.4em;box-sizing: border-box;padding-bottom: 0.4em;background-color: white;}#sk-container-id-5 div.sk-label label {font-family: monospace;font-weight: bold;display: inline-block;line-height: 1.2em;}#sk-container-id-5 div.sk-label-container {text-align: center;}#sk-container-id-5 div.sk-container {/* jupyter's `normalize.less` sets `[hidden] { display: none; }` but bootstrap.min.css set `[hidden] { display: none !important; }` so we also need the `!important` here to be able to override the default hidden behavior on the sphinx rendered scikit-learn.org. See: https://github.com/scikit-learn/scikit-learn/issues/21755 */display: inline-block !important;position: relative;}#sk-container-id-5 div.sk-text-repr-fallback {display: none;}</style><div id=\"sk-container-id-5\" class=\"sk-top-container\"><div class=\"sk-text-repr-fallback\"><pre>RandomForestClassifier(n_estimators=150, random_state=42)</pre><b>In a Jupyter environment, please rerun this cell to show the HTML representation or trust the notebook. <br />On GitHub, the HTML representation is unable to render, please try loading this page with nbviewer.org.</b></div><div class=\"sk-container\" hidden><div class=\"sk-item\"><div class=\"sk-estimator sk-toggleable\"><input class=\"sk-toggleable__control sk-hidden--visually\" id=\"sk-estimator-id-5\" type=\"checkbox\" checked><label for=\"sk-estimator-id-5\" class=\"sk-toggleable__label sk-toggleable__label-arrow\">RandomForestClassifier</label><div class=\"sk-toggleable__content\"><pre>RandomForestClassifier(n_estimators=150, random_state=42)</pre></div></div></div></div></div>"
            ]
          },
          "metadata": {},
          "execution_count": 34
        }
      ]
    },
    {
      "cell_type": "markdown",
      "source": [
        "## Test the Model On Different Classifiers\n",
        "\n",
        "Tested the model and ouputted the accuracy score results."
      ],
      "metadata": {
        "id": "qBdP1qt19Djh"
      }
    },
    {
      "cell_type": "code",
      "source": [
        "from sklearn.metrics import accuracy_score\n",
        "\n",
        "test_inputs = test_df.drop(['id','Class','Amount'], axis = 1)\n",
        "y_actual = test_df[\"Class\"]\n",
        "\n",
        "#logistic classifer\n",
        "y_predicted_lr = lr_classifier.predict(test_inputs.to_numpy())\n",
        "lr_accuracy_score = accuracy_score(y_predicted_lr,y_actual)\n",
        "\n",
        "\n",
        "#mlp classifier\n",
        "y_predicted_mlp = mlp_classifier.predict(test_inputs.to_numpy())\n",
        "mlp_accuracy_score = accuracy_score(y_predicted_mlp,y_actual)\n",
        "\n",
        "\n",
        "#decision tree\n",
        "y_predicted_dt = dt_classifier.predict(test_inputs.to_numpy())\n",
        "dt_accuracy_score = accuracy_score(y_predicted_dt, y_actual)\n",
        "\n",
        "\n",
        "#random forest\n",
        "y_predicted_rf = rf_classifier.predict(test_inputs.to_numpy())\n",
        "rf_accuracy_score = accuracy_score(y_predicted_rf, y_actual)\n",
        "\n",
        "\n",
        "print (f\"Accuracy of the Logistic Classifier (V1-V28) = {lr_accuracy_score}\")\n",
        "print (f\"Accuracy of the MLP Classifier (V1-V28) = {mlp_accuracy_score}\")\n",
        "print(f\"Accuracy of the Decision Tree Classifier (V1-V28) = {dt_accuracy_score}\")\n",
        "print(f\"Accuracy of the Random Forest Classifier (V1-V28) = {rf_accuracy_score}\")"
      ],
      "metadata": {
        "colab": {
          "base_uri": "https://localhost:8080/"
        },
        "id": "flLXvPWVFu9F",
        "outputId": "cc30a17d-99c2-458c-cd00-f1b2252979ce"
      },
      "execution_count": null,
      "outputs": [
        {
          "output_type": "stream",
          "name": "stdout",
          "text": [
            "Accuracy of the Logistic Classifier (V1-V28) = 0.963\n",
            "Accuracy of the MLP Classifier (V1-V28) = 0.972\n",
            "Accuracy of the Decision Tree Classifier (V1-V28) = 0.943\n",
            "Accuracy of the Random Forest Classifier (V1-V28) = 0.965\n"
          ]
        }
      ]
    },
    {
      "cell_type": "markdown",
      "source": [
        "## Results:\n",
        "\n",
        "**Logistic Classifier:**\n",
        "\n",
        "Accuracy: 96.3%\n",
        "\n",
        "The logistic classifier correctly predicted the class for 96.3% of the instances. This is a relatively high accuracy and it suggests that the logistic regression model is performing well on the given features.\n",
        "\n",
        "**MLP Classifier**\n",
        "\n",
        "Accuracy: 97.2%\n",
        "\n",
        "The MLP Classifier achieved a 97.2% accuracy. This classifier achieved the highest score, meaning it is the most efficient in identifying fradulent and non-fraudulent transactions\n",
        "\n",
        "**Decision Tree Classifier**\n",
        "\n",
        "Accuracy: 94.3%\n",
        "\n",
        "The decision tree predicted a 94.3% accuracy. This model is reasonable and decision trees are known for their interpretability.\n",
        "\n",
        "**Random Forest Classifier**\n",
        "\n",
        "Accuracy: 96.5%\n",
        "\n",
        "The random forest classifier acheived an accuracy of 96.5%. This was expected because random forests provide high accuracy by combining multiple decision trees."
      ],
      "metadata": {
        "id": "YOiCxnHJ9aV4"
      }
    },
    {
      "cell_type": "markdown",
      "source": [
        "## Another Modeling Test Part 2\n",
        "\n",
        "Test the accuracy of the model with only variables V1 to V18 since the Heatmap shows those are the most closely correlated"
      ],
      "metadata": {
        "id": "MG9ReXRpJtUx"
      }
    },
    {
      "cell_type": "code",
      "source": [
        "train_features2 = train_df[['V1', 'V2', 'V3', 'V4', 'V5', 'V6', 'V7', 'V8', 'V9',\n",
        "                            'V10', 'V11', 'V12', 'V13', 'V14', 'V15', 'V16', 'V17', 'V18']]\n",
        "train_labels2 = train_df[\"Class\"]\n",
        "\n",
        "train_features2.head()\n",
        "train_labels2.head()"
      ],
      "metadata": {
        "colab": {
          "base_uri": "https://localhost:8080/"
        },
        "id": "L1tHfohdJ6a0",
        "outputId": "9b274a2f-ad33-4c92-b366-34b16cc10669"
      },
      "execution_count": null,
      "outputs": [
        {
          "output_type": "execute_result",
          "data": {
            "text/plain": [
              "0    1\n",
              "1    1\n",
              "2    0\n",
              "3    1\n",
              "4    1\n",
              "Name: Class, dtype: int64"
            ]
          },
          "metadata": {},
          "execution_count": 36
        }
      ]
    },
    {
      "cell_type": "markdown",
      "source": [
        "## Define and Train Model Part 2"
      ],
      "metadata": {
        "id": "4mrHHg528KMG"
      }
    },
    {
      "cell_type": "code",
      "source": [
        "# Now let's define our models\n",
        "from sklearn.linear_model import LogisticRegression\n",
        "from sklearn.neural_network import MLPClassifier\n",
        "from sklearn.tree import DecisionTreeClassifier\n",
        "from sklearn.ensemble import RandomForestClassifier\n",
        "\n",
        "\n",
        "lr_classifier = LogisticRegression(solver='lbfgs',max_iter=150)\n",
        "mlp_classifier = MLPClassifier(solver='lbfgs',max_iter=150)\n",
        "dt_classifier = DecisionTreeClassifier(random_state=42)\n",
        "rf_classifier = RandomForestClassifier(n_estimators=150, random_state=42)\n",
        "\n",
        "# train our models\n",
        "lr_classifier.fit(train_features2.to_numpy(),train_labels2.to_numpy())\n",
        "mlp_classifier.fit(train_features2.to_numpy(),train_labels2.to_numpy())\n",
        "dt_classifier.fit(train_features2.to_numpy(), train_labels2.to_numpy())\n",
        "rf_classifier.fit(train_features2.to_numpy(), train_labels2.to_numpy())"
      ],
      "metadata": {
        "colab": {
          "base_uri": "https://localhost:8080/",
          "height": 75
        },
        "id": "m_UH2JCYLEcW",
        "outputId": "d95cc8a4-36a4-4572-d42f-55b74e9b7459"
      },
      "execution_count": null,
      "outputs": [
        {
          "output_type": "execute_result",
          "data": {
            "text/plain": [
              "RandomForestClassifier(n_estimators=150, random_state=42)"
            ],
            "text/html": [
              "<style>#sk-container-id-6 {color: black;background-color: white;}#sk-container-id-6 pre{padding: 0;}#sk-container-id-6 div.sk-toggleable {background-color: white;}#sk-container-id-6 label.sk-toggleable__label {cursor: pointer;display: block;width: 100%;margin-bottom: 0;padding: 0.3em;box-sizing: border-box;text-align: center;}#sk-container-id-6 label.sk-toggleable__label-arrow:before {content: \"▸\";float: left;margin-right: 0.25em;color: #696969;}#sk-container-id-6 label.sk-toggleable__label-arrow:hover:before {color: black;}#sk-container-id-6 div.sk-estimator:hover label.sk-toggleable__label-arrow:before {color: black;}#sk-container-id-6 div.sk-toggleable__content {max-height: 0;max-width: 0;overflow: hidden;text-align: left;background-color: #f0f8ff;}#sk-container-id-6 div.sk-toggleable__content pre {margin: 0.2em;color: black;border-radius: 0.25em;background-color: #f0f8ff;}#sk-container-id-6 input.sk-toggleable__control:checked~div.sk-toggleable__content {max-height: 200px;max-width: 100%;overflow: auto;}#sk-container-id-6 input.sk-toggleable__control:checked~label.sk-toggleable__label-arrow:before {content: \"▾\";}#sk-container-id-6 div.sk-estimator input.sk-toggleable__control:checked~label.sk-toggleable__label {background-color: #d4ebff;}#sk-container-id-6 div.sk-label input.sk-toggleable__control:checked~label.sk-toggleable__label {background-color: #d4ebff;}#sk-container-id-6 input.sk-hidden--visually {border: 0;clip: rect(1px 1px 1px 1px);clip: rect(1px, 1px, 1px, 1px);height: 1px;margin: -1px;overflow: hidden;padding: 0;position: absolute;width: 1px;}#sk-container-id-6 div.sk-estimator {font-family: monospace;background-color: #f0f8ff;border: 1px dotted black;border-radius: 0.25em;box-sizing: border-box;margin-bottom: 0.5em;}#sk-container-id-6 div.sk-estimator:hover {background-color: #d4ebff;}#sk-container-id-6 div.sk-parallel-item::after {content: \"\";width: 100%;border-bottom: 1px solid gray;flex-grow: 1;}#sk-container-id-6 div.sk-label:hover label.sk-toggleable__label {background-color: #d4ebff;}#sk-container-id-6 div.sk-serial::before {content: \"\";position: absolute;border-left: 1px solid gray;box-sizing: border-box;top: 0;bottom: 0;left: 50%;z-index: 0;}#sk-container-id-6 div.sk-serial {display: flex;flex-direction: column;align-items: center;background-color: white;padding-right: 0.2em;padding-left: 0.2em;position: relative;}#sk-container-id-6 div.sk-item {position: relative;z-index: 1;}#sk-container-id-6 div.sk-parallel {display: flex;align-items: stretch;justify-content: center;background-color: white;position: relative;}#sk-container-id-6 div.sk-item::before, #sk-container-id-6 div.sk-parallel-item::before {content: \"\";position: absolute;border-left: 1px solid gray;box-sizing: border-box;top: 0;bottom: 0;left: 50%;z-index: -1;}#sk-container-id-6 div.sk-parallel-item {display: flex;flex-direction: column;z-index: 1;position: relative;background-color: white;}#sk-container-id-6 div.sk-parallel-item:first-child::after {align-self: flex-end;width: 50%;}#sk-container-id-6 div.sk-parallel-item:last-child::after {align-self: flex-start;width: 50%;}#sk-container-id-6 div.sk-parallel-item:only-child::after {width: 0;}#sk-container-id-6 div.sk-dashed-wrapped {border: 1px dashed gray;margin: 0 0.4em 0.5em 0.4em;box-sizing: border-box;padding-bottom: 0.4em;background-color: white;}#sk-container-id-6 div.sk-label label {font-family: monospace;font-weight: bold;display: inline-block;line-height: 1.2em;}#sk-container-id-6 div.sk-label-container {text-align: center;}#sk-container-id-6 div.sk-container {/* jupyter's `normalize.less` sets `[hidden] { display: none; }` but bootstrap.min.css set `[hidden] { display: none !important; }` so we also need the `!important` here to be able to override the default hidden behavior on the sphinx rendered scikit-learn.org. See: https://github.com/scikit-learn/scikit-learn/issues/21755 */display: inline-block !important;position: relative;}#sk-container-id-6 div.sk-text-repr-fallback {display: none;}</style><div id=\"sk-container-id-6\" class=\"sk-top-container\"><div class=\"sk-text-repr-fallback\"><pre>RandomForestClassifier(n_estimators=150, random_state=42)</pre><b>In a Jupyter environment, please rerun this cell to show the HTML representation or trust the notebook. <br />On GitHub, the HTML representation is unable to render, please try loading this page with nbviewer.org.</b></div><div class=\"sk-container\" hidden><div class=\"sk-item\"><div class=\"sk-estimator sk-toggleable\"><input class=\"sk-toggleable__control sk-hidden--visually\" id=\"sk-estimator-id-6\" type=\"checkbox\" checked><label for=\"sk-estimator-id-6\" class=\"sk-toggleable__label sk-toggleable__label-arrow\">RandomForestClassifier</label><div class=\"sk-toggleable__content\"><pre>RandomForestClassifier(n_estimators=150, random_state=42)</pre></div></div></div></div></div>"
            ]
          },
          "metadata": {},
          "execution_count": 37
        }
      ]
    },
    {
      "cell_type": "markdown",
      "source": [
        "Test the model with the new variables (V1 to V18) since the heatmap showed that these features are the most correlated."
      ],
      "metadata": {
        "id": "mUC5oboG6saG"
      }
    },
    {
      "cell_type": "markdown",
      "source": [
        "## Accuracy Results Based on Different Classifiers"
      ],
      "metadata": {
        "id": "eR-_EhcP8R8E"
      }
    },
    {
      "cell_type": "code",
      "source": [
        "from sklearn.metrics import accuracy_score\n",
        "\n",
        "test_inputs = test_df[['V1', 'V2', 'V3', 'V4', 'V5', 'V6', 'V7', 'V8', 'V9',\n",
        "                       'V10', 'V11', 'V12', 'V13', 'V14', 'V15', 'V16', 'V17', 'V18']]\n",
        "y_actual = test_df[\"Class\"]\n",
        "\n",
        "#logistic classifer\n",
        "y_predicted_lr = lr_classifier.predict(test_inputs.to_numpy())\n",
        "lr_accuracy_score = accuracy_score(y_predicted_lr,y_actual)\n",
        "\n",
        "\n",
        "#mlp classifier\n",
        "y_predicted_mlp = mlp_classifier.predict(test_inputs.to_numpy())\n",
        "mlp_accuracy_score = accuracy_score(y_predicted_mlp,y_actual)\n",
        "\n",
        "\n",
        "#decision tree\n",
        "y_predicted_dt = dt_classifier.predict(test_inputs.to_numpy())\n",
        "dt_accuracy_score = accuracy_score(y_predicted_dt, y_actual)\n",
        "\n",
        "\n",
        "#random forest\n",
        "y_predicted_rf = rf_classifier.predict(test_inputs.to_numpy())\n",
        "rf_accuracy_score = accuracy_score(y_predicted_rf, y_actual)\n",
        "\n",
        "\n",
        "print (f\"Accuracy of the Logistic Classifier (V1-V18) = {lr_accuracy_score}\")\n",
        "print (f\"Accuracy of the MLP Classifier (V1-V18) = {mlp_accuracy_score}\")\n",
        "print(f\"Accuracy of the Decision Tree Classifier (V1-V18) = {dt_accuracy_score}\")\n",
        "print(f\"Accuracy of the Random Forest Classifier (V1-V18) = {rf_accuracy_score}\")"
      ],
      "metadata": {
        "colab": {
          "base_uri": "https://localhost:8080/"
        },
        "id": "3W8L25xvYsxR",
        "outputId": "3a06aaef-a292-4873-8196-63f72e2f77c0"
      },
      "execution_count": null,
      "outputs": [
        {
          "output_type": "stream",
          "name": "stdout",
          "text": [
            "Accuracy of the Logistic Classifier (V1-V18) = 0.964\n",
            "Accuracy of the MLP Classifier (V1-V18) = 0.958\n",
            "Accuracy of the Decision Tree Classifier (V1-V18) = 0.933\n",
            "Accuracy of the Random Forest Classifier (V1-V18) = 0.968\n"
          ]
        }
      ]
    },
    {
      "cell_type": "markdown",
      "source": [
        "##Results:\n",
        "\n",
        "The Random Forest had the highest accuracy. Logistic and MLP classifiers were also highly accurate when using variables V1 to V18. The decision tree had the lowest score as its accuracy and the MLP accuracy decreased compared to the other test with features V1 to V28."
      ],
      "metadata": {
        "id": "dOSdcLQsZkqY"
      }
    },
    {
      "cell_type": "markdown",
      "source": [
        "## Conclusion:\n",
        "\n",
        "We did two tests. The first test was on the features V1 to V28 and the results showed that the Random Forest Classifier has the highest accuracy. The MLP Classifier also showed high accuracy. The Logistic Classifier and the Decision Tree Classifier were slightly lower but it still demonstrated a reasonable performance.\n",
        "\n",
        "The second test was on features V1 to V18 because the heatmap showed that these were the most correlated features. Overall, the Logistic, MLP, and Decision Tree Classifiers did better than the first test. However, the Random Forest was slightly less than the first test. The MLP Classifier did the best with the highest accuracy while the Logistic and Decision Tree Classifiers were slightly lower, but still reasonable.\n",
        "\n",
        "Overall, accuracy is just one metric to determine a model's performance. It is important to consider for future tests to explore additional metrics such as precision, recall, F1 score, and confusion matrices to get a better in depth understanding of the model, especially if there are imbalances with the classes in the dataset. Since the classes were split evenly in half in the dataset, we could suffice with just using accuracy as the metric. Another thing to consider for the future is whether misclassification of costs can influence the models. Some limitations with accuracy is that it is sensitive to data pre-processing, meaning that different pre-processing techiques could lead to different accuracy scores. Another limitation is that it may not fully reflect the real world. For instance, a high accuracy in identifying non-fraudulent cases and a low accuracy in detecting fraudulent cases is not useful in fraud detection."
      ],
      "metadata": {
        "id": "q_GFlyJOj3GX"
      }
    }
  ]
}