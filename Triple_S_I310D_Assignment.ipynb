{
  "nbformat": 4,
  "nbformat_minor": 0,
  "metadata": {
    "colab": {
      "provenance": [],
      "include_colab_link": true
    },
    "kernelspec": {
      "name": "python3",
      "display_name": "Python 3"
    },
    "language_info": {
      "name": "python"
    }
  },
  "cells": [
    {
      "cell_type": "markdown",
      "metadata": {
        "id": "view-in-github",
        "colab_type": "text"
      },
      "source": [
        "<a href=\"https://colab.research.google.com/github/sriya-nimma/CreditCardFraudDetection/blob/main/Triple_S_I310D_Assignment.ipynb\" target=\"_parent\"><img src=\"https://colab.research.google.com/assets/colab-badge.svg\" alt=\"Open In Colab\"/></a>"
      ]
    },
    {
      "cell_type": "markdown",
      "source": [
        "##Credit Card Fraud Detection Accuracy Model"
      ],
      "metadata": {
        "id": "RICSMFvt6u_r"
      }
    },
    {
      "cell_type": "markdown",
      "source": [
        "## STEP 1: Data Loading and Pre-Processing\n",
        "\n",
        "Import appropriate libraries and load dataset"
      ],
      "metadata": {
        "id": "eVczxKv761zj"
      }
    },
    {
      "cell_type": "code",
      "execution_count": 12,
      "metadata": {
        "colab": {
          "base_uri": "https://localhost:8080/",
          "height": 325
        },
        "id": "AQcwLnKi340y",
        "outputId": "6d012d86-cc9d-4084-c86d-a2d38315e1f0"
      },
      "outputs": [
        {
          "output_type": "stream",
          "name": "stderr",
          "text": [
            "<ipython-input-12-3b63f97a2aa2>:7: FutureWarning: The error_bad_lines argument has been deprecated and will be removed in a future version. Use on_bad_lines in the future.\n",
            "\n",
            "\n",
            "  df = pd.read_csv(\"creditcard_2023.csv\", error_bad_lines=False)\n"
          ]
        },
        {
          "output_type": "execute_result",
          "data": {
            "text/plain": [
              "       id        V1        V2        V3        V4        V5        V6  \\\n",
              "0  284050  0.207091 -0.217603  0.210944 -1.103458  1.034052  0.518079   \n",
              "1  153537 -0.053523 -2.059827 -0.027278  0.898684 -0.033337  1.392890   \n",
              "2  167795  1.666716 -0.417681 -0.013691 -0.378799  0.207648 -0.470131   \n",
              "3  212178  1.605881 -0.274015  0.643570  0.630462  0.230954  0.599621   \n",
              "4   27612 -0.003158 -0.235189  1.462805 -1.304015  0.258209 -0.276640   \n",
              "\n",
              "         V7        V8        V9  ...       V21       V22       V23       V24  \\\n",
              "0  0.817402 -0.172584  0.556610  ... -0.266099 -0.826459  0.047118 -0.823500   \n",
              "1  0.889834 -0.194344  1.035711  ...  0.200541 -0.396710 -1.023328 -0.123362   \n",
              "2  0.498472 -0.211960  0.720204  ...  0.012438  0.845206 -0.000838  1.009586   \n",
              "3  0.345508 -0.151909  0.099578  ... -0.174410 -0.389804  0.421612 -0.068483   \n",
              "4  0.728721 -0.184892  0.374953  ... -0.103594 -0.141328 -0.111566  0.881898   \n",
              "\n",
              "        V25       V26       V27       V28    Amount  Class  \n",
              "0 -0.680572  0.293200 -0.314041 -0.517221  15697.05    0.0  \n",
              "1 -1.043985 -0.303556 -0.520179  0.370256  21171.20    0.0  \n",
              "2  0.121775 -0.355828 -0.251798 -0.179177  17366.66    0.0  \n",
              "3 -0.902787 -0.927658 -0.208091 -0.154104  12038.07    0.0  \n",
              "4 -0.649612  1.532672 -0.233107  0.177894   4781.54    0.0  \n",
              "\n",
              "[5 rows x 31 columns]"
            ],
            "text/html": [
              "\n",
              "  <div id=\"df-b4426a5a-8229-40b1-b00d-75f32b25f9ed\" class=\"colab-df-container\">\n",
              "    <div>\n",
              "<style scoped>\n",
              "    .dataframe tbody tr th:only-of-type {\n",
              "        vertical-align: middle;\n",
              "    }\n",
              "\n",
              "    .dataframe tbody tr th {\n",
              "        vertical-align: top;\n",
              "    }\n",
              "\n",
              "    .dataframe thead th {\n",
              "        text-align: right;\n",
              "    }\n",
              "</style>\n",
              "<table border=\"1\" class=\"dataframe\">\n",
              "  <thead>\n",
              "    <tr style=\"text-align: right;\">\n",
              "      <th></th>\n",
              "      <th>id</th>\n",
              "      <th>V1</th>\n",
              "      <th>V2</th>\n",
              "      <th>V3</th>\n",
              "      <th>V4</th>\n",
              "      <th>V5</th>\n",
              "      <th>V6</th>\n",
              "      <th>V7</th>\n",
              "      <th>V8</th>\n",
              "      <th>V9</th>\n",
              "      <th>...</th>\n",
              "      <th>V21</th>\n",
              "      <th>V22</th>\n",
              "      <th>V23</th>\n",
              "      <th>V24</th>\n",
              "      <th>V25</th>\n",
              "      <th>V26</th>\n",
              "      <th>V27</th>\n",
              "      <th>V28</th>\n",
              "      <th>Amount</th>\n",
              "      <th>Class</th>\n",
              "    </tr>\n",
              "  </thead>\n",
              "  <tbody>\n",
              "    <tr>\n",
              "      <th>0</th>\n",
              "      <td>284050</td>\n",
              "      <td>0.207091</td>\n",
              "      <td>-0.217603</td>\n",
              "      <td>0.210944</td>\n",
              "      <td>-1.103458</td>\n",
              "      <td>1.034052</td>\n",
              "      <td>0.518079</td>\n",
              "      <td>0.817402</td>\n",
              "      <td>-0.172584</td>\n",
              "      <td>0.556610</td>\n",
              "      <td>...</td>\n",
              "      <td>-0.266099</td>\n",
              "      <td>-0.826459</td>\n",
              "      <td>0.047118</td>\n",
              "      <td>-0.823500</td>\n",
              "      <td>-0.680572</td>\n",
              "      <td>0.293200</td>\n",
              "      <td>-0.314041</td>\n",
              "      <td>-0.517221</td>\n",
              "      <td>15697.05</td>\n",
              "      <td>0.0</td>\n",
              "    </tr>\n",
              "    <tr>\n",
              "      <th>1</th>\n",
              "      <td>153537</td>\n",
              "      <td>-0.053523</td>\n",
              "      <td>-2.059827</td>\n",
              "      <td>-0.027278</td>\n",
              "      <td>0.898684</td>\n",
              "      <td>-0.033337</td>\n",
              "      <td>1.392890</td>\n",
              "      <td>0.889834</td>\n",
              "      <td>-0.194344</td>\n",
              "      <td>1.035711</td>\n",
              "      <td>...</td>\n",
              "      <td>0.200541</td>\n",
              "      <td>-0.396710</td>\n",
              "      <td>-1.023328</td>\n",
              "      <td>-0.123362</td>\n",
              "      <td>-1.043985</td>\n",
              "      <td>-0.303556</td>\n",
              "      <td>-0.520179</td>\n",
              "      <td>0.370256</td>\n",
              "      <td>21171.20</td>\n",
              "      <td>0.0</td>\n",
              "    </tr>\n",
              "    <tr>\n",
              "      <th>2</th>\n",
              "      <td>167795</td>\n",
              "      <td>1.666716</td>\n",
              "      <td>-0.417681</td>\n",
              "      <td>-0.013691</td>\n",
              "      <td>-0.378799</td>\n",
              "      <td>0.207648</td>\n",
              "      <td>-0.470131</td>\n",
              "      <td>0.498472</td>\n",
              "      <td>-0.211960</td>\n",
              "      <td>0.720204</td>\n",
              "      <td>...</td>\n",
              "      <td>0.012438</td>\n",
              "      <td>0.845206</td>\n",
              "      <td>-0.000838</td>\n",
              "      <td>1.009586</td>\n",
              "      <td>0.121775</td>\n",
              "      <td>-0.355828</td>\n",
              "      <td>-0.251798</td>\n",
              "      <td>-0.179177</td>\n",
              "      <td>17366.66</td>\n",
              "      <td>0.0</td>\n",
              "    </tr>\n",
              "    <tr>\n",
              "      <th>3</th>\n",
              "      <td>212178</td>\n",
              "      <td>1.605881</td>\n",
              "      <td>-0.274015</td>\n",
              "      <td>0.643570</td>\n",
              "      <td>0.630462</td>\n",
              "      <td>0.230954</td>\n",
              "      <td>0.599621</td>\n",
              "      <td>0.345508</td>\n",
              "      <td>-0.151909</td>\n",
              "      <td>0.099578</td>\n",
              "      <td>...</td>\n",
              "      <td>-0.174410</td>\n",
              "      <td>-0.389804</td>\n",
              "      <td>0.421612</td>\n",
              "      <td>-0.068483</td>\n",
              "      <td>-0.902787</td>\n",
              "      <td>-0.927658</td>\n",
              "      <td>-0.208091</td>\n",
              "      <td>-0.154104</td>\n",
              "      <td>12038.07</td>\n",
              "      <td>0.0</td>\n",
              "    </tr>\n",
              "    <tr>\n",
              "      <th>4</th>\n",
              "      <td>27612</td>\n",
              "      <td>-0.003158</td>\n",
              "      <td>-0.235189</td>\n",
              "      <td>1.462805</td>\n",
              "      <td>-1.304015</td>\n",
              "      <td>0.258209</td>\n",
              "      <td>-0.276640</td>\n",
              "      <td>0.728721</td>\n",
              "      <td>-0.184892</td>\n",
              "      <td>0.374953</td>\n",
              "      <td>...</td>\n",
              "      <td>-0.103594</td>\n",
              "      <td>-0.141328</td>\n",
              "      <td>-0.111566</td>\n",
              "      <td>0.881898</td>\n",
              "      <td>-0.649612</td>\n",
              "      <td>1.532672</td>\n",
              "      <td>-0.233107</td>\n",
              "      <td>0.177894</td>\n",
              "      <td>4781.54</td>\n",
              "      <td>0.0</td>\n",
              "    </tr>\n",
              "  </tbody>\n",
              "</table>\n",
              "<p>5 rows × 31 columns</p>\n",
              "</div>\n",
              "    <div class=\"colab-df-buttons\">\n",
              "\n",
              "  <div class=\"colab-df-container\">\n",
              "    <button class=\"colab-df-convert\" onclick=\"convertToInteractive('df-b4426a5a-8229-40b1-b00d-75f32b25f9ed')\"\n",
              "            title=\"Convert this dataframe to an interactive table.\"\n",
              "            style=\"display:none;\">\n",
              "\n",
              "  <svg xmlns=\"http://www.w3.org/2000/svg\" height=\"24px\" viewBox=\"0 -960 960 960\">\n",
              "    <path d=\"M120-120v-720h720v720H120Zm60-500h600v-160H180v160Zm220 220h160v-160H400v160Zm0 220h160v-160H400v160ZM180-400h160v-160H180v160Zm440 0h160v-160H620v160ZM180-180h160v-160H180v160Zm440 0h160v-160H620v160Z\"/>\n",
              "  </svg>\n",
              "    </button>\n",
              "\n",
              "  <style>\n",
              "    .colab-df-container {\n",
              "      display:flex;\n",
              "      gap: 12px;\n",
              "    }\n",
              "\n",
              "    .colab-df-convert {\n",
              "      background-color: #E8F0FE;\n",
              "      border: none;\n",
              "      border-radius: 50%;\n",
              "      cursor: pointer;\n",
              "      display: none;\n",
              "      fill: #1967D2;\n",
              "      height: 32px;\n",
              "      padding: 0 0 0 0;\n",
              "      width: 32px;\n",
              "    }\n",
              "\n",
              "    .colab-df-convert:hover {\n",
              "      background-color: #E2EBFA;\n",
              "      box-shadow: 0px 1px 2px rgba(60, 64, 67, 0.3), 0px 1px 3px 1px rgba(60, 64, 67, 0.15);\n",
              "      fill: #174EA6;\n",
              "    }\n",
              "\n",
              "    .colab-df-buttons div {\n",
              "      margin-bottom: 4px;\n",
              "    }\n",
              "\n",
              "    [theme=dark] .colab-df-convert {\n",
              "      background-color: #3B4455;\n",
              "      fill: #D2E3FC;\n",
              "    }\n",
              "\n",
              "    [theme=dark] .colab-df-convert:hover {\n",
              "      background-color: #434B5C;\n",
              "      box-shadow: 0px 1px 3px 1px rgba(0, 0, 0, 0.15);\n",
              "      filter: drop-shadow(0px 1px 2px rgba(0, 0, 0, 0.3));\n",
              "      fill: #FFFFFF;\n",
              "    }\n",
              "  </style>\n",
              "\n",
              "    <script>\n",
              "      const buttonEl =\n",
              "        document.querySelector('#df-b4426a5a-8229-40b1-b00d-75f32b25f9ed button.colab-df-convert');\n",
              "      buttonEl.style.display =\n",
              "        google.colab.kernel.accessAllowed ? 'block' : 'none';\n",
              "\n",
              "      async function convertToInteractive(key) {\n",
              "        const element = document.querySelector('#df-b4426a5a-8229-40b1-b00d-75f32b25f9ed');\n",
              "        const dataTable =\n",
              "          await google.colab.kernel.invokeFunction('convertToInteractive',\n",
              "                                                    [key], {});\n",
              "        if (!dataTable) return;\n",
              "\n",
              "        const docLinkHtml = 'Like what you see? Visit the ' +\n",
              "          '<a target=\"_blank\" href=https://colab.research.google.com/notebooks/data_table.ipynb>data table notebook</a>'\n",
              "          + ' to learn more about interactive tables.';\n",
              "        element.innerHTML = '';\n",
              "        dataTable['output_type'] = 'display_data';\n",
              "        await google.colab.output.renderOutput(dataTable, element);\n",
              "        const docLink = document.createElement('div');\n",
              "        docLink.innerHTML = docLinkHtml;\n",
              "        element.appendChild(docLink);\n",
              "      }\n",
              "    </script>\n",
              "  </div>\n",
              "\n",
              "\n",
              "<div id=\"df-902806b0-8f04-454f-9b21-4ba98e398bf1\">\n",
              "  <button class=\"colab-df-quickchart\" onclick=\"quickchart('df-902806b0-8f04-454f-9b21-4ba98e398bf1')\"\n",
              "            title=\"Suggest charts\"\n",
              "            style=\"display:none;\">\n",
              "\n",
              "<svg xmlns=\"http://www.w3.org/2000/svg\" height=\"24px\"viewBox=\"0 0 24 24\"\n",
              "     width=\"24px\">\n",
              "    <g>\n",
              "        <path d=\"M19 3H5c-1.1 0-2 .9-2 2v14c0 1.1.9 2 2 2h14c1.1 0 2-.9 2-2V5c0-1.1-.9-2-2-2zM9 17H7v-7h2v7zm4 0h-2V7h2v10zm4 0h-2v-4h2v4z\"/>\n",
              "    </g>\n",
              "</svg>\n",
              "  </button>\n",
              "\n",
              "<style>\n",
              "  .colab-df-quickchart {\n",
              "      --bg-color: #E8F0FE;\n",
              "      --fill-color: #1967D2;\n",
              "      --hover-bg-color: #E2EBFA;\n",
              "      --hover-fill-color: #174EA6;\n",
              "      --disabled-fill-color: #AAA;\n",
              "      --disabled-bg-color: #DDD;\n",
              "  }\n",
              "\n",
              "  [theme=dark] .colab-df-quickchart {\n",
              "      --bg-color: #3B4455;\n",
              "      --fill-color: #D2E3FC;\n",
              "      --hover-bg-color: #434B5C;\n",
              "      --hover-fill-color: #FFFFFF;\n",
              "      --disabled-bg-color: #3B4455;\n",
              "      --disabled-fill-color: #666;\n",
              "  }\n",
              "\n",
              "  .colab-df-quickchart {\n",
              "    background-color: var(--bg-color);\n",
              "    border: none;\n",
              "    border-radius: 50%;\n",
              "    cursor: pointer;\n",
              "    display: none;\n",
              "    fill: var(--fill-color);\n",
              "    height: 32px;\n",
              "    padding: 0;\n",
              "    width: 32px;\n",
              "  }\n",
              "\n",
              "  .colab-df-quickchart:hover {\n",
              "    background-color: var(--hover-bg-color);\n",
              "    box-shadow: 0 1px 2px rgba(60, 64, 67, 0.3), 0 1px 3px 1px rgba(60, 64, 67, 0.15);\n",
              "    fill: var(--button-hover-fill-color);\n",
              "  }\n",
              "\n",
              "  .colab-df-quickchart-complete:disabled,\n",
              "  .colab-df-quickchart-complete:disabled:hover {\n",
              "    background-color: var(--disabled-bg-color);\n",
              "    fill: var(--disabled-fill-color);\n",
              "    box-shadow: none;\n",
              "  }\n",
              "\n",
              "  .colab-df-spinner {\n",
              "    border: 2px solid var(--fill-color);\n",
              "    border-color: transparent;\n",
              "    border-bottom-color: var(--fill-color);\n",
              "    animation:\n",
              "      spin 1s steps(1) infinite;\n",
              "  }\n",
              "\n",
              "  @keyframes spin {\n",
              "    0% {\n",
              "      border-color: transparent;\n",
              "      border-bottom-color: var(--fill-color);\n",
              "      border-left-color: var(--fill-color);\n",
              "    }\n",
              "    20% {\n",
              "      border-color: transparent;\n",
              "      border-left-color: var(--fill-color);\n",
              "      border-top-color: var(--fill-color);\n",
              "    }\n",
              "    30% {\n",
              "      border-color: transparent;\n",
              "      border-left-color: var(--fill-color);\n",
              "      border-top-color: var(--fill-color);\n",
              "      border-right-color: var(--fill-color);\n",
              "    }\n",
              "    40% {\n",
              "      border-color: transparent;\n",
              "      border-right-color: var(--fill-color);\n",
              "      border-top-color: var(--fill-color);\n",
              "    }\n",
              "    60% {\n",
              "      border-color: transparent;\n",
              "      border-right-color: var(--fill-color);\n",
              "    }\n",
              "    80% {\n",
              "      border-color: transparent;\n",
              "      border-right-color: var(--fill-color);\n",
              "      border-bottom-color: var(--fill-color);\n",
              "    }\n",
              "    90% {\n",
              "      border-color: transparent;\n",
              "      border-bottom-color: var(--fill-color);\n",
              "    }\n",
              "  }\n",
              "</style>\n",
              "\n",
              "  <script>\n",
              "    async function quickchart(key) {\n",
              "      const quickchartButtonEl =\n",
              "        document.querySelector('#' + key + ' button');\n",
              "      quickchartButtonEl.disabled = true;  // To prevent multiple clicks.\n",
              "      quickchartButtonEl.classList.add('colab-df-spinner');\n",
              "      try {\n",
              "        const charts = await google.colab.kernel.invokeFunction(\n",
              "            'suggestCharts', [key], {});\n",
              "      } catch (error) {\n",
              "        console.error('Error during call to suggestCharts:', error);\n",
              "      }\n",
              "      quickchartButtonEl.classList.remove('colab-df-spinner');\n",
              "      quickchartButtonEl.classList.add('colab-df-quickchart-complete');\n",
              "    }\n",
              "    (() => {\n",
              "      let quickchartButtonEl =\n",
              "        document.querySelector('#df-902806b0-8f04-454f-9b21-4ba98e398bf1 button');\n",
              "      quickchartButtonEl.style.display =\n",
              "        google.colab.kernel.accessAllowed ? 'block' : 'none';\n",
              "    })();\n",
              "  </script>\n",
              "</div>\n",
              "    </div>\n",
              "  </div>\n"
            ]
          },
          "metadata": {},
          "execution_count": 12
        }
      ],
      "source": [
        "import pandas as pd\n",
        "from sklearn.model_selection import train_test_split\n",
        "import matplotlib.pyplot as plt\n",
        "import matplotlib as mpl\n",
        "import seaborn as sns\n",
        "\n",
        "df = pd.read_csv(\"creditcard_2023.csv\", error_bad_lines=False)\n",
        "df = df.reset_index()\n",
        "\n",
        "#have to randomize the rows because in the initial dataframe, the first half is all 0s for output and the second half is all 1,\n",
        "#this throws an exception when training the model\n",
        "\n",
        "\n",
        "main_df = df.sample(frac=1, random_state=42)  # Setting random_state for reproducibility\n",
        "main_df = main_df.reset_index(drop=True)\n",
        "main_df = main_df.drop('index', axis = 1)\n",
        "\n",
        "main_df.head()"
      ]
    },
    {
      "cell_type": "markdown",
      "source": [
        "## STEP 2: DATA CLEANING\n",
        "\n",
        "Check for duplicate and null rows. Remove if found"
      ],
      "metadata": {
        "id": "lPqcrmQP7CQ8"
      }
    },
    {
      "cell_type": "code",
      "source": [
        "#clean duplicate rows\n",
        "duplicate_rows = main_df[df.duplicated()]\n",
        "if duplicate_rows.empty:\n",
        "    print(\"No duplicate rows found.\")\n",
        "else:\n",
        "    print(\"Duplicate rows found:\")\n",
        "    print(duplicate_rows)"
      ],
      "metadata": {
        "colab": {
          "base_uri": "https://localhost:8080/"
        },
        "id": "QVs4pnW7-qMN",
        "outputId": "44993ab5-e28a-43b4-9ca4-991f9407dad4"
      },
      "execution_count": 13,
      "outputs": [
        {
          "output_type": "stream",
          "name": "stdout",
          "text": [
            "No duplicate rows found.\n"
          ]
        }
      ]
    },
    {
      "cell_type": "code",
      "source": [
        "null_counts = main_df.isnull().sum()\n",
        "print(null_counts)"
      ],
      "metadata": {
        "colab": {
          "base_uri": "https://localhost:8080/"
        },
        "id": "_7dZqW8K9ckX",
        "outputId": "4394c008-850c-45b5-d354-26a2060a2611"
      },
      "execution_count": 14,
      "outputs": [
        {
          "output_type": "stream",
          "name": "stdout",
          "text": [
            "id        0\n",
            "V1        0\n",
            "V2        0\n",
            "V3        0\n",
            "V4        0\n",
            "V5        0\n",
            "V6        0\n",
            "V7        1\n",
            "V8        1\n",
            "V9        1\n",
            "V10       1\n",
            "V11       1\n",
            "V12       1\n",
            "V13       1\n",
            "V14       1\n",
            "V15       1\n",
            "V16       1\n",
            "V17       1\n",
            "V18       1\n",
            "V19       1\n",
            "V20       1\n",
            "V21       1\n",
            "V22       1\n",
            "V23       1\n",
            "V24       1\n",
            "V25       1\n",
            "V26       1\n",
            "V27       1\n",
            "V28       1\n",
            "Amount    1\n",
            "Class     1\n",
            "dtype: int64\n"
          ]
        }
      ]
    },
    {
      "cell_type": "markdown",
      "source": [
        " The data looks clean. There are no duplicates, there are no null values to deal with, and the data type is consistent throughout."
      ],
      "metadata": {
        "id": "LxlzTREg-X7K"
      }
    },
    {
      "cell_type": "markdown",
      "source": [
        "## Create training and testing datasets"
      ],
      "metadata": {
        "id": "kpjqZ_j79HHL"
      }
    },
    {
      "cell_type": "code",
      "source": [
        "train_df = main_df.iloc[:1000, :32]\n",
        "test_df = main_df.iloc[1000:2000, :32]\n",
        "\n",
        "train_df.head()"
      ],
      "metadata": {
        "colab": {
          "base_uri": "https://localhost:8080/",
          "height": 256
        },
        "id": "FkyKiZhEvutk",
        "outputId": "4dd02ae0-f4fa-47b6-ee55-9b3600aa5f60"
      },
      "execution_count": 15,
      "outputs": [
        {
          "output_type": "execute_result",
          "data": {
            "text/plain": [
              "       id        V1        V2        V3        V4        V5        V6  \\\n",
              "0  284050  0.207091 -0.217603  0.210944 -1.103458  1.034052  0.518079   \n",
              "1  153537 -0.053523 -2.059827 -0.027278  0.898684 -0.033337  1.392890   \n",
              "2  167795  1.666716 -0.417681 -0.013691 -0.378799  0.207648 -0.470131   \n",
              "3  212178  1.605881 -0.274015  0.643570  0.630462  0.230954  0.599621   \n",
              "4   27612 -0.003158 -0.235189  1.462805 -1.304015  0.258209 -0.276640   \n",
              "\n",
              "         V7        V8        V9  ...       V21       V22       V23       V24  \\\n",
              "0  0.817402 -0.172584  0.556610  ... -0.266099 -0.826459  0.047118 -0.823500   \n",
              "1  0.889834 -0.194344  1.035711  ...  0.200541 -0.396710 -1.023328 -0.123362   \n",
              "2  0.498472 -0.211960  0.720204  ...  0.012438  0.845206 -0.000838  1.009586   \n",
              "3  0.345508 -0.151909  0.099578  ... -0.174410 -0.389804  0.421612 -0.068483   \n",
              "4  0.728721 -0.184892  0.374953  ... -0.103594 -0.141328 -0.111566  0.881898   \n",
              "\n",
              "        V25       V26       V27       V28    Amount  Class  \n",
              "0 -0.680572  0.293200 -0.314041 -0.517221  15697.05    0.0  \n",
              "1 -1.043985 -0.303556 -0.520179  0.370256  21171.20    0.0  \n",
              "2  0.121775 -0.355828 -0.251798 -0.179177  17366.66    0.0  \n",
              "3 -0.902787 -0.927658 -0.208091 -0.154104  12038.07    0.0  \n",
              "4 -0.649612  1.532672 -0.233107  0.177894   4781.54    0.0  \n",
              "\n",
              "[5 rows x 31 columns]"
            ],
            "text/html": [
              "\n",
              "  <div id=\"df-1ff8c6fc-fce1-4369-88fc-15a14450b679\" class=\"colab-df-container\">\n",
              "    <div>\n",
              "<style scoped>\n",
              "    .dataframe tbody tr th:only-of-type {\n",
              "        vertical-align: middle;\n",
              "    }\n",
              "\n",
              "    .dataframe tbody tr th {\n",
              "        vertical-align: top;\n",
              "    }\n",
              "\n",
              "    .dataframe thead th {\n",
              "        text-align: right;\n",
              "    }\n",
              "</style>\n",
              "<table border=\"1\" class=\"dataframe\">\n",
              "  <thead>\n",
              "    <tr style=\"text-align: right;\">\n",
              "      <th></th>\n",
              "      <th>id</th>\n",
              "      <th>V1</th>\n",
              "      <th>V2</th>\n",
              "      <th>V3</th>\n",
              "      <th>V4</th>\n",
              "      <th>V5</th>\n",
              "      <th>V6</th>\n",
              "      <th>V7</th>\n",
              "      <th>V8</th>\n",
              "      <th>V9</th>\n",
              "      <th>...</th>\n",
              "      <th>V21</th>\n",
              "      <th>V22</th>\n",
              "      <th>V23</th>\n",
              "      <th>V24</th>\n",
              "      <th>V25</th>\n",
              "      <th>V26</th>\n",
              "      <th>V27</th>\n",
              "      <th>V28</th>\n",
              "      <th>Amount</th>\n",
              "      <th>Class</th>\n",
              "    </tr>\n",
              "  </thead>\n",
              "  <tbody>\n",
              "    <tr>\n",
              "      <th>0</th>\n",
              "      <td>284050</td>\n",
              "      <td>0.207091</td>\n",
              "      <td>-0.217603</td>\n",
              "      <td>0.210944</td>\n",
              "      <td>-1.103458</td>\n",
              "      <td>1.034052</td>\n",
              "      <td>0.518079</td>\n",
              "      <td>0.817402</td>\n",
              "      <td>-0.172584</td>\n",
              "      <td>0.556610</td>\n",
              "      <td>...</td>\n",
              "      <td>-0.266099</td>\n",
              "      <td>-0.826459</td>\n",
              "      <td>0.047118</td>\n",
              "      <td>-0.823500</td>\n",
              "      <td>-0.680572</td>\n",
              "      <td>0.293200</td>\n",
              "      <td>-0.314041</td>\n",
              "      <td>-0.517221</td>\n",
              "      <td>15697.05</td>\n",
              "      <td>0.0</td>\n",
              "    </tr>\n",
              "    <tr>\n",
              "      <th>1</th>\n",
              "      <td>153537</td>\n",
              "      <td>-0.053523</td>\n",
              "      <td>-2.059827</td>\n",
              "      <td>-0.027278</td>\n",
              "      <td>0.898684</td>\n",
              "      <td>-0.033337</td>\n",
              "      <td>1.392890</td>\n",
              "      <td>0.889834</td>\n",
              "      <td>-0.194344</td>\n",
              "      <td>1.035711</td>\n",
              "      <td>...</td>\n",
              "      <td>0.200541</td>\n",
              "      <td>-0.396710</td>\n",
              "      <td>-1.023328</td>\n",
              "      <td>-0.123362</td>\n",
              "      <td>-1.043985</td>\n",
              "      <td>-0.303556</td>\n",
              "      <td>-0.520179</td>\n",
              "      <td>0.370256</td>\n",
              "      <td>21171.20</td>\n",
              "      <td>0.0</td>\n",
              "    </tr>\n",
              "    <tr>\n",
              "      <th>2</th>\n",
              "      <td>167795</td>\n",
              "      <td>1.666716</td>\n",
              "      <td>-0.417681</td>\n",
              "      <td>-0.013691</td>\n",
              "      <td>-0.378799</td>\n",
              "      <td>0.207648</td>\n",
              "      <td>-0.470131</td>\n",
              "      <td>0.498472</td>\n",
              "      <td>-0.211960</td>\n",
              "      <td>0.720204</td>\n",
              "      <td>...</td>\n",
              "      <td>0.012438</td>\n",
              "      <td>0.845206</td>\n",
              "      <td>-0.000838</td>\n",
              "      <td>1.009586</td>\n",
              "      <td>0.121775</td>\n",
              "      <td>-0.355828</td>\n",
              "      <td>-0.251798</td>\n",
              "      <td>-0.179177</td>\n",
              "      <td>17366.66</td>\n",
              "      <td>0.0</td>\n",
              "    </tr>\n",
              "    <tr>\n",
              "      <th>3</th>\n",
              "      <td>212178</td>\n",
              "      <td>1.605881</td>\n",
              "      <td>-0.274015</td>\n",
              "      <td>0.643570</td>\n",
              "      <td>0.630462</td>\n",
              "      <td>0.230954</td>\n",
              "      <td>0.599621</td>\n",
              "      <td>0.345508</td>\n",
              "      <td>-0.151909</td>\n",
              "      <td>0.099578</td>\n",
              "      <td>...</td>\n",
              "      <td>-0.174410</td>\n",
              "      <td>-0.389804</td>\n",
              "      <td>0.421612</td>\n",
              "      <td>-0.068483</td>\n",
              "      <td>-0.902787</td>\n",
              "      <td>-0.927658</td>\n",
              "      <td>-0.208091</td>\n",
              "      <td>-0.154104</td>\n",
              "      <td>12038.07</td>\n",
              "      <td>0.0</td>\n",
              "    </tr>\n",
              "    <tr>\n",
              "      <th>4</th>\n",
              "      <td>27612</td>\n",
              "      <td>-0.003158</td>\n",
              "      <td>-0.235189</td>\n",
              "      <td>1.462805</td>\n",
              "      <td>-1.304015</td>\n",
              "      <td>0.258209</td>\n",
              "      <td>-0.276640</td>\n",
              "      <td>0.728721</td>\n",
              "      <td>-0.184892</td>\n",
              "      <td>0.374953</td>\n",
              "      <td>...</td>\n",
              "      <td>-0.103594</td>\n",
              "      <td>-0.141328</td>\n",
              "      <td>-0.111566</td>\n",
              "      <td>0.881898</td>\n",
              "      <td>-0.649612</td>\n",
              "      <td>1.532672</td>\n",
              "      <td>-0.233107</td>\n",
              "      <td>0.177894</td>\n",
              "      <td>4781.54</td>\n",
              "      <td>0.0</td>\n",
              "    </tr>\n",
              "  </tbody>\n",
              "</table>\n",
              "<p>5 rows × 31 columns</p>\n",
              "</div>\n",
              "    <div class=\"colab-df-buttons\">\n",
              "\n",
              "  <div class=\"colab-df-container\">\n",
              "    <button class=\"colab-df-convert\" onclick=\"convertToInteractive('df-1ff8c6fc-fce1-4369-88fc-15a14450b679')\"\n",
              "            title=\"Convert this dataframe to an interactive table.\"\n",
              "            style=\"display:none;\">\n",
              "\n",
              "  <svg xmlns=\"http://www.w3.org/2000/svg\" height=\"24px\" viewBox=\"0 -960 960 960\">\n",
              "    <path d=\"M120-120v-720h720v720H120Zm60-500h600v-160H180v160Zm220 220h160v-160H400v160Zm0 220h160v-160H400v160ZM180-400h160v-160H180v160Zm440 0h160v-160H620v160ZM180-180h160v-160H180v160Zm440 0h160v-160H620v160Z\"/>\n",
              "  </svg>\n",
              "    </button>\n",
              "\n",
              "  <style>\n",
              "    .colab-df-container {\n",
              "      display:flex;\n",
              "      gap: 12px;\n",
              "    }\n",
              "\n",
              "    .colab-df-convert {\n",
              "      background-color: #E8F0FE;\n",
              "      border: none;\n",
              "      border-radius: 50%;\n",
              "      cursor: pointer;\n",
              "      display: none;\n",
              "      fill: #1967D2;\n",
              "      height: 32px;\n",
              "      padding: 0 0 0 0;\n",
              "      width: 32px;\n",
              "    }\n",
              "\n",
              "    .colab-df-convert:hover {\n",
              "      background-color: #E2EBFA;\n",
              "      box-shadow: 0px 1px 2px rgba(60, 64, 67, 0.3), 0px 1px 3px 1px rgba(60, 64, 67, 0.15);\n",
              "      fill: #174EA6;\n",
              "    }\n",
              "\n",
              "    .colab-df-buttons div {\n",
              "      margin-bottom: 4px;\n",
              "    }\n",
              "\n",
              "    [theme=dark] .colab-df-convert {\n",
              "      background-color: #3B4455;\n",
              "      fill: #D2E3FC;\n",
              "    }\n",
              "\n",
              "    [theme=dark] .colab-df-convert:hover {\n",
              "      background-color: #434B5C;\n",
              "      box-shadow: 0px 1px 3px 1px rgba(0, 0, 0, 0.15);\n",
              "      filter: drop-shadow(0px 1px 2px rgba(0, 0, 0, 0.3));\n",
              "      fill: #FFFFFF;\n",
              "    }\n",
              "  </style>\n",
              "\n",
              "    <script>\n",
              "      const buttonEl =\n",
              "        document.querySelector('#df-1ff8c6fc-fce1-4369-88fc-15a14450b679 button.colab-df-convert');\n",
              "      buttonEl.style.display =\n",
              "        google.colab.kernel.accessAllowed ? 'block' : 'none';\n",
              "\n",
              "      async function convertToInteractive(key) {\n",
              "        const element = document.querySelector('#df-1ff8c6fc-fce1-4369-88fc-15a14450b679');\n",
              "        const dataTable =\n",
              "          await google.colab.kernel.invokeFunction('convertToInteractive',\n",
              "                                                    [key], {});\n",
              "        if (!dataTable) return;\n",
              "\n",
              "        const docLinkHtml = 'Like what you see? Visit the ' +\n",
              "          '<a target=\"_blank\" href=https://colab.research.google.com/notebooks/data_table.ipynb>data table notebook</a>'\n",
              "          + ' to learn more about interactive tables.';\n",
              "        element.innerHTML = '';\n",
              "        dataTable['output_type'] = 'display_data';\n",
              "        await google.colab.output.renderOutput(dataTable, element);\n",
              "        const docLink = document.createElement('div');\n",
              "        docLink.innerHTML = docLinkHtml;\n",
              "        element.appendChild(docLink);\n",
              "      }\n",
              "    </script>\n",
              "  </div>\n",
              "\n",
              "\n",
              "<div id=\"df-ab1c0dc4-b761-4edf-a2e0-9f378db8c92d\">\n",
              "  <button class=\"colab-df-quickchart\" onclick=\"quickchart('df-ab1c0dc4-b761-4edf-a2e0-9f378db8c92d')\"\n",
              "            title=\"Suggest charts\"\n",
              "            style=\"display:none;\">\n",
              "\n",
              "<svg xmlns=\"http://www.w3.org/2000/svg\" height=\"24px\"viewBox=\"0 0 24 24\"\n",
              "     width=\"24px\">\n",
              "    <g>\n",
              "        <path d=\"M19 3H5c-1.1 0-2 .9-2 2v14c0 1.1.9 2 2 2h14c1.1 0 2-.9 2-2V5c0-1.1-.9-2-2-2zM9 17H7v-7h2v7zm4 0h-2V7h2v10zm4 0h-2v-4h2v4z\"/>\n",
              "    </g>\n",
              "</svg>\n",
              "  </button>\n",
              "\n",
              "<style>\n",
              "  .colab-df-quickchart {\n",
              "      --bg-color: #E8F0FE;\n",
              "      --fill-color: #1967D2;\n",
              "      --hover-bg-color: #E2EBFA;\n",
              "      --hover-fill-color: #174EA6;\n",
              "      --disabled-fill-color: #AAA;\n",
              "      --disabled-bg-color: #DDD;\n",
              "  }\n",
              "\n",
              "  [theme=dark] .colab-df-quickchart {\n",
              "      --bg-color: #3B4455;\n",
              "      --fill-color: #D2E3FC;\n",
              "      --hover-bg-color: #434B5C;\n",
              "      --hover-fill-color: #FFFFFF;\n",
              "      --disabled-bg-color: #3B4455;\n",
              "      --disabled-fill-color: #666;\n",
              "  }\n",
              "\n",
              "  .colab-df-quickchart {\n",
              "    background-color: var(--bg-color);\n",
              "    border: none;\n",
              "    border-radius: 50%;\n",
              "    cursor: pointer;\n",
              "    display: none;\n",
              "    fill: var(--fill-color);\n",
              "    height: 32px;\n",
              "    padding: 0;\n",
              "    width: 32px;\n",
              "  }\n",
              "\n",
              "  .colab-df-quickchart:hover {\n",
              "    background-color: var(--hover-bg-color);\n",
              "    box-shadow: 0 1px 2px rgba(60, 64, 67, 0.3), 0 1px 3px 1px rgba(60, 64, 67, 0.15);\n",
              "    fill: var(--button-hover-fill-color);\n",
              "  }\n",
              "\n",
              "  .colab-df-quickchart-complete:disabled,\n",
              "  .colab-df-quickchart-complete:disabled:hover {\n",
              "    background-color: var(--disabled-bg-color);\n",
              "    fill: var(--disabled-fill-color);\n",
              "    box-shadow: none;\n",
              "  }\n",
              "\n",
              "  .colab-df-spinner {\n",
              "    border: 2px solid var(--fill-color);\n",
              "    border-color: transparent;\n",
              "    border-bottom-color: var(--fill-color);\n",
              "    animation:\n",
              "      spin 1s steps(1) infinite;\n",
              "  }\n",
              "\n",
              "  @keyframes spin {\n",
              "    0% {\n",
              "      border-color: transparent;\n",
              "      border-bottom-color: var(--fill-color);\n",
              "      border-left-color: var(--fill-color);\n",
              "    }\n",
              "    20% {\n",
              "      border-color: transparent;\n",
              "      border-left-color: var(--fill-color);\n",
              "      border-top-color: var(--fill-color);\n",
              "    }\n",
              "    30% {\n",
              "      border-color: transparent;\n",
              "      border-left-color: var(--fill-color);\n",
              "      border-top-color: var(--fill-color);\n",
              "      border-right-color: var(--fill-color);\n",
              "    }\n",
              "    40% {\n",
              "      border-color: transparent;\n",
              "      border-right-color: var(--fill-color);\n",
              "      border-top-color: var(--fill-color);\n",
              "    }\n",
              "    60% {\n",
              "      border-color: transparent;\n",
              "      border-right-color: var(--fill-color);\n",
              "    }\n",
              "    80% {\n",
              "      border-color: transparent;\n",
              "      border-right-color: var(--fill-color);\n",
              "      border-bottom-color: var(--fill-color);\n",
              "    }\n",
              "    90% {\n",
              "      border-color: transparent;\n",
              "      border-bottom-color: var(--fill-color);\n",
              "    }\n",
              "  }\n",
              "</style>\n",
              "\n",
              "  <script>\n",
              "    async function quickchart(key) {\n",
              "      const quickchartButtonEl =\n",
              "        document.querySelector('#' + key + ' button');\n",
              "      quickchartButtonEl.disabled = true;  // To prevent multiple clicks.\n",
              "      quickchartButtonEl.classList.add('colab-df-spinner');\n",
              "      try {\n",
              "        const charts = await google.colab.kernel.invokeFunction(\n",
              "            'suggestCharts', [key], {});\n",
              "      } catch (error) {\n",
              "        console.error('Error during call to suggestCharts:', error);\n",
              "      }\n",
              "      quickchartButtonEl.classList.remove('colab-df-spinner');\n",
              "      quickchartButtonEl.classList.add('colab-df-quickchart-complete');\n",
              "    }\n",
              "    (() => {\n",
              "      let quickchartButtonEl =\n",
              "        document.querySelector('#df-ab1c0dc4-b761-4edf-a2e0-9f378db8c92d button');\n",
              "      quickchartButtonEl.style.display =\n",
              "        google.colab.kernel.accessAllowed ? 'block' : 'none';\n",
              "    })();\n",
              "  </script>\n",
              "</div>\n",
              "    </div>\n",
              "  </div>\n"
            ]
          },
          "metadata": {},
          "execution_count": 15
        }
      ]
    },
    {
      "cell_type": "markdown",
      "source": [
        "## STEP 3: Determine which variables are mostly correlated if not all\n",
        "\n",
        "Created a heatmap to help visualize which variables are mostly correlated to eachother"
      ],
      "metadata": {
        "id": "xC7UbIjK7QP0"
      }
    },
    {
      "cell_type": "code",
      "source": [
        "#correlation matrix\n",
        "\n",
        "df_noID = main_df.drop('id', axis = 1)\n",
        "\n",
        "correlation_matrix = df_noID.corr()\n",
        "\n",
        "#visualize heatmap\n",
        "plt.figure(figsize=(10,8))\n",
        "sns.heatmap(correlation_matrix, annot=False, cmap = 'coolwarm', fmt = '.2f', linewidths=0.5)\n",
        "plt.title(\"Correlation Matrix\")\n",
        "plt.show()\n",
        "\n"
      ],
      "metadata": {
        "colab": {
          "base_uri": "https://localhost:8080/",
          "height": 739
        },
        "id": "Hnr5NFl4Kv6a",
        "outputId": "1207ed3a-4316-4a3a-bd63-e6b3d4b65c66"
      },
      "execution_count": 16,
      "outputs": [
        {
          "output_type": "display_data",
          "data": {
            "text/plain": [
              "<Figure size 1000x800 with 2 Axes>"
            ],
            "image/png": "[encoded data removed]"
          },
          "metadata": {}
        }
      ]
    },
    {
      "cell_type": "markdown",
      "source": [
        "The correlation matrix does not show signs of concern of removing features that are highly correlated. However, V1 to V18 are more correlated than the other features."
      ],
      "metadata": {
        "id": "yKWbYrtXMa5h"
      }
    },
    {
      "cell_type": "markdown",
      "source": [
        "Now let's check if there is any correlation between the transaction amount and whether it is fraudulent or not, so we can train our model based on that. To see this, we can make a scatterplot to see if there is a correlation between the two values."
      ],
      "metadata": {
        "id": "vvCZqwJxZapd"
      }
    },
    {
      "cell_type": "code",
      "source": [
        "import scipy\n",
        "from matplotlib import pyplot as plt\n",
        "\n",
        "transaction_amount = main_df[\"Amount\"]\n",
        "fraud_or_not = main_df[\"Class\"]\n",
        "\n",
        "plt.scatter(transaction_amount,fraud_or_not,marker=\".\")\n",
        "\n",
        "plt.xlabel(\"Transaction Amount\")\n",
        "plt.ylabel(\"Fraudulent or Not\")\n",
        "\n",
        "plt.title(\"Does the Amount of the Transaction correlate to whether it's fradulent or not?\")"
      ],
      "metadata": {
        "id": "KwPRXyxiWeV8",
        "colab": {
          "base_uri": "https://localhost:8080/",
          "height": 489
        },
        "outputId": "c220c964-0eb4-4496-cb0a-7bc658a17c2d"
      },
      "execution_count": 17,
      "outputs": [
        {
          "output_type": "execute_result",
          "data": {
            "text/plain": [
              "Text(0.5, 1.0, \"Does the Amount of the Transaction correlate to whether it's fradulent or not?\")"
            ]
          },
          "metadata": {},
          "execution_count": 17
        },
        {
          "output_type": "display_data",
          "data": {
            "text/plain": [
              "<Figure size 640x480 with 1 Axes>"
            ],
            "image/png": "[encoded data removed]"
          },
          "metadata": {}
        }
      ]
    },
    {
      "cell_type": "markdown",
      "source": [
        "As the scatterplot has shown us, there is no visible correlation between the amount of the transaction and whether it is fraudulent or not, as transactions of the same amount have both been fraudlent and genuine. Therefore, we don't need to account for this when training our model since the dataset shows that 50% are fraud and 50% are not fraudulenet. This means that we don't have to deal with unbalance in the model."
      ],
      "metadata": {
        "id": "Iuv82hlUZvV5"
      }
    },
    {
      "cell_type": "markdown",
      "source": [
        "## Training the Model\n",
        "\n",
        "Determine which variables to train the data with for the model. This model is using all the variables from V1 to V28."
      ],
      "metadata": {
        "id": "0pX6rQnP8itx"
      }
    },
    {
      "cell_type": "code",
      "source": [
        "\n",
        "train_features = train_df.drop(['id', 'Class', 'Amount'], axis = 1)\n",
        "train_labels = train_df[\"Class\"]\n",
        "\n",
        "train_features.head()\n",
        "\n",
        "train_labels.head()"
      ],
      "metadata": {
        "colab": {
          "base_uri": "https://localhost:8080/"
        },
        "id": "Lwu836bEKl1p",
        "outputId": "f0faf2c3-46d6-4fee-fb14-73bd963f4ab6"
      },
      "execution_count": 18,
      "outputs": [
        {
          "output_type": "execute_result",
          "data": {
            "text/plain": [
              "0    0.0\n",
              "1    0.0\n",
              "2    0.0\n",
              "3    0.0\n",
              "4    0.0\n",
              "Name: Class, dtype: float64"
            ]
          },
          "metadata": {},
          "execution_count": 18
        }
      ]
    },
    {
      "cell_type": "markdown",
      "source": [
        "## Define the Models\n",
        "\n",
        "Defined a logistic regression, MLP, Decision Tree, and Random Forest classifer"
      ],
      "metadata": {
        "id": "m8mcfe2c8xTQ"
      }
    },
    {
      "cell_type": "code",
      "source": [
        "# Define our models\n",
        "from sklearn.linear_model import LogisticRegression\n",
        "from sklearn.neural_network import MLPClassifier\n",
        "from sklearn.tree import DecisionTreeClassifier\n",
        "from sklearn.ensemble import RandomForestClassifier\n",
        "\n",
        "\n",
        "lr_classifier = LogisticRegression(solver='lbfgs',max_iter=150)\n",
        "mlp_classifier = MLPClassifier(solver='lbfgs', max_iter=150)\n",
        "dt_classifier = DecisionTreeClassifier(random_state=42)\n",
        "rf_classifier = RandomForestClassifier(n_estimators=150, random_state=42)\n",
        "\n",
        "# train our models\n",
        "lr_classifier.fit(train_features.to_numpy(),train_labels.to_numpy())\n",
        "mlp_classifier.fit(train_features.to_numpy(),train_labels.to_numpy())\n",
        "dt_classifier.fit(train_features.to_numpy(), train_labels.to_numpy())\n",
        "rf_classifier.fit(train_features.to_numpy(), train_labels.to_numpy())\n"
      ],
      "metadata": {
        "colab": {
          "base_uri": "https://localhost:8080/",
          "height": 75
        },
        "id": "Xu9xBGm5Gq1S",
        "outputId": "73e0cac6-2595-4a80-e2cb-83f717390f2b"
      },
      "execution_count": 20,
      "outputs": [
        {
          "output_type": "execute_result",
          "data": {
            "text/plain": [
              "RandomForestClassifier(n_estimators=150, random_state=42)"
            ],
            "text/html": [
              "<style>#sk-container-id-2 {color: black;background-color: white;}#sk-container-id-2 pre{padding: 0;}#sk-container-id-2 div.sk-toggleable {background-color: white;}#sk-container-id-2 label.sk-toggleable__label {cursor: pointer;display: block;width: 100%;margin-bottom: 0;padding: 0.3em;box-sizing: border-box;text-align: center;}#sk-container-id-2 label.sk-toggleable__label-arrow:before {content: \"▸\";float: left;margin-right: 0.25em;color: #696969;}#sk-container-id-2 label.sk-toggleable__label-arrow:hover:before {color: black;}#sk-container-id-2 div.sk-estimator:hover label.sk-toggleable__label-arrow:before {color: black;}#sk-container-id-2 div.sk-toggleable__content {max-height: 0;max-width: 0;overflow: hidden;text-align: left;background-color: #f0f8ff;}#sk-container-id-2 div.sk-toggleable__content pre {margin: 0.2em;color: black;border-radius: 0.25em;background-color: #f0f8ff;}#sk-container-id-2 input.sk-toggleable__control:checked~div.sk-toggleable__content {max-height: 200px;max-width: 100%;overflow: auto;}#sk-container-id-2 input.sk-toggleable__control:checked~label.sk-toggleable__label-arrow:before {content: \"▾\";}#sk-container-id-2 div.sk-estimator input.sk-toggleable__control:checked~label.sk-toggleable__label {background-color: #d4ebff;}#sk-container-id-2 div.sk-label input.sk-toggleable__control:checked~label.sk-toggleable__label {background-color: #d4ebff;}#sk-container-id-2 input.sk-hidden--visually {border: 0;clip: rect(1px 1px 1px 1px);clip: rect(1px, 1px, 1px, 1px);height: 1px;margin: -1px;overflow: hidden;padding: 0;position: absolute;width: 1px;}#sk-container-id-2 div.sk-estimator {font-family: monospace;background-color: #f0f8ff;border: 1px dotted black;border-radius: 0.25em;box-sizing: border-box;margin-bottom: 0.5em;}#sk-container-id-2 div.sk-estimator:hover {background-color: #d4ebff;}#sk-container-id-2 div.sk-parallel-item::after {content: \"\";width: 100%;border-bottom: 1px solid gray;flex-grow: 1;}#sk-container-id-2 div.sk-label:hover label.sk-toggleable__label {background-color: #d4ebff;}#sk-container-id-2 div.sk-serial::before {content: \"\";position: absolute;border-left: 1px solid gray;box-sizing: border-box;top: 0;bottom: 0;left: 50%;z-index: 0;}#sk-container-id-2 div.sk-serial {display: flex;flex-direction: column;align-items: center;background-color: white;padding-right: 0.2em;padding-left: 0.2em;position: relative;}#sk-container-id-2 div.sk-item {position: relative;z-index: 1;}#sk-container-id-2 div.sk-parallel {display: flex;align-items: stretch;justify-content: center;background-color: white;position: relative;}#sk-container-id-2 div.sk-item::before, #sk-container-id-2 div.sk-parallel-item::before {content: \"\";position: absolute;border-left: 1px solid gray;box-sizing: border-box;top: 0;bottom: 0;left: 50%;z-index: -1;}#sk-container-id-2 div.sk-parallel-item {display: flex;flex-direction: column;z-index: 1;position: relative;background-color: white;}#sk-container-id-2 div.sk-parallel-item:first-child::after {align-self: flex-end;width: 50%;}#sk-container-id-2 div.sk-parallel-item:last-child::after {align-self: flex-start;width: 50%;}#sk-container-id-2 div.sk-parallel-item:only-child::after {width: 0;}#sk-container-id-2 div.sk-dashed-wrapped {border: 1px dashed gray;margin: 0 0.4em 0.5em 0.4em;box-sizing: border-box;padding-bottom: 0.4em;background-color: white;}#sk-container-id-2 div.sk-label label {font-family: monospace;font-weight: bold;display: inline-block;line-height: 1.2em;}#sk-container-id-2 div.sk-label-container {text-align: center;}#sk-container-id-2 div.sk-container {/* jupyter's `normalize.less` sets `[hidden] { display: none; }` but bootstrap.min.css set `[hidden] { display: none !important; }` so we also need the `!important` here to be able to override the default hidden behavior on the sphinx rendered scikit-learn.org. See: https://github.com/scikit-learn/scikit-learn/issues/21755 */display: inline-block !important;position: relative;}#sk-container-id-2 div.sk-text-repr-fallback {display: none;}</style><div id=\"sk-container-id-2\" class=\"sk-top-container\"><div class=\"sk-text-repr-fallback\"><pre>RandomForestClassifier(n_estimators=150, random_state=42)</pre><b>In a Jupyter environment, please rerun this cell to show the HTML representation or trust the notebook. <br />On GitHub, the HTML representation is unable to render, please try loading this page with nbviewer.org.</b></div><div class=\"sk-container\" hidden><div class=\"sk-item\"><div class=\"sk-estimator sk-toggleable\"><input class=\"sk-toggleable__control sk-hidden--visually\" id=\"sk-estimator-id-2\" type=\"checkbox\" checked><label for=\"sk-estimator-id-2\" class=\"sk-toggleable__label sk-toggleable__label-arrow\">RandomForestClassifier</label><div class=\"sk-toggleable__content\"><pre>RandomForestClassifier(n_estimators=150, random_state=42)</pre></div></div></div></div></div>"
            ]
          },
          "metadata": {},
          "execution_count": 20
        }
      ]
    },
    {
      "cell_type": "markdown",
      "source": [
        "## Test the Model On Different Classifiers\n",
        "\n",
        "Tested the model and ouputted the accuracy score results."
      ],
      "metadata": {
        "id": "qBdP1qt19Djh"
      }
    },
    {
      "cell_type": "code",
      "source": [
        "from sklearn.metrics import accuracy_score\n",
        "\n",
        "test_inputs = test_df.drop(['id','Class','Amount'], axis = 1)\n",
        "y_actual = test_df[\"Class\"]\n",
        "\n",
        "#logistic classifer\n",
        "y_predicted_lr = lr_classifier.predict(test_inputs.to_numpy())\n",
        "lr_accuracy_score = accuracy_score(y_predicted_lr,y_actual)\n",
        "\n",
        "\n",
        "#mlp classifier\n",
        "y_predicted_mlp = mlp_classifier.predict(test_inputs.to_numpy())\n",
        "mlp_accuracy_score = accuracy_score(y_predicted_mlp,y_actual)\n",
        "\n",
        "\n",
        "#decision tree\n",
        "y_predicted_dt = dt_classifier.predict(test_inputs.to_numpy())\n",
        "dt_accuracy_score = accuracy_score(y_predicted_dt, y_actual)\n",
        "\n",
        "\n",
        "#random forest\n",
        "y_predicted_rf = rf_classifier.predict(test_inputs.to_numpy())\n",
        "rf_accuracy_score = accuracy_score(y_predicted_rf, y_actual)\n",
        "\n",
        "\n",
        "print (f\"Accuracy of the Logistic Classifier (V1-V28) = {lr_accuracy_score}\")\n",
        "print (f\"Accuracy of the MLP Classifier (V1-V28) = {mlp_accuracy_score}\")\n",
        "print(f\"Accuracy of the Decision Tree Classifier (V1-V28) = {dt_accuracy_score}\")\n",
        "print(f\"Accuracy of the Random Forest Classifier (V1-V28) = {rf_accuracy_score}\")"
      ],
      "metadata": {
        "colab": {
          "base_uri": "https://localhost:8080/"
        },
        "id": "flLXvPWVFu9F",
        "outputId": "a45f6ed0-560b-4c07-e308-d44386f5234f"
      },
      "execution_count": 21,
      "outputs": [
        {
          "output_type": "stream",
          "name": "stdout",
          "text": [
            "Accuracy of the Logistic Classifier (V1-V28) = 0.98\n",
            "Accuracy of the MLP Classifier (V1-V28) = 0.955\n",
            "Accuracy of the Decision Tree Classifier (V1-V28) = 0.973\n",
            "Accuracy of the Random Forest Classifier (V1-V28) = 0.985\n"
          ]
        }
      ]
    },
    {
      "cell_type": "markdown",
      "source": [
        "## Results: (Results May Vary Each Run)\n",
        "\n",
        "**Logistic Classifier:**\n",
        "\n",
        "Accuracy: 96.3%\n",
        "\n",
        "The logistic classifier correctly predicted the class for 96.3% of the instances. This is a relatively high accuracy and it suggests that the logistic regression model is performing well on the given features.\n",
        "\n",
        "**MLP Classifier**\n",
        "\n",
        "Accuracy: 97.2%\n",
        "\n",
        "The MLP Classifier achieved a 97.2% accuracy. This classifier achieved the highest score, meaning it is the most efficient in identifying fradulent and non-fraudulent transactions\n",
        "\n",
        "**Decision Tree Classifier**\n",
        "\n",
        "Accuracy: 94.3%\n",
        "\n",
        "The decision tree predicted a 94.3% accuracy. This model is reasonable and decision trees are known for their interpretability.\n",
        "\n",
        "**Random Forest Classifier**\n",
        "\n",
        "Accuracy: 96.5%\n",
        "\n",
        "The random forest classifier acheived an accuracy of 96.5%. This was expected because random forests provide high accuracy by combining multiple decision trees."
      ],
      "metadata": {
        "id": "YOiCxnHJ9aV4"
      }
    },
    {
      "cell_type": "markdown",
      "source": [
        "## Another Modeling Test Part 2\n",
        "\n",
        "Test the accuracy of the model with only variables V1 to V18 since the Heatmap shows those are the most closely correlated"
      ],
      "metadata": {
        "id": "MG9ReXRpJtUx"
      }
    },
    {
      "cell_type": "code",
      "source": [
        "train_features2 = train_df[['V1', 'V2', 'V3', 'V4', 'V5', 'V6', 'V7', 'V8', 'V9',\n",
        "                            'V10', 'V11', 'V12', 'V13', 'V14', 'V15', 'V16', 'V17', 'V18']]\n",
        "train_labels2 = train_df[\"Class\"]\n",
        "\n",
        "train_features2.head()\n",
        "train_labels2.head()"
      ],
      "metadata": {
        "colab": {
          "base_uri": "https://localhost:8080/"
        },
        "id": "L1tHfohdJ6a0",
        "outputId": "37b301b6-e8c1-464e-cb9d-671e966d997d"
      },
      "execution_count": 22,
      "outputs": [
        {
          "output_type": "execute_result",
          "data": {
            "text/plain": [
              "0    0.0\n",
              "1    0.0\n",
              "2    0.0\n",
              "3    0.0\n",
              "4    0.0\n",
              "Name: Class, dtype: float64"
            ]
          },
          "metadata": {},
          "execution_count": 22
        }
      ]
    },
    {
      "cell_type": "markdown",
      "source": [
        "## Define and Train Model Part 2"
      ],
      "metadata": {
        "id": "4mrHHg528KMG"
      }
    },
    {
      "cell_type": "code",
      "source": [
        "# Now let's define our models\n",
        "from sklearn.linear_model import LogisticRegression\n",
        "from sklearn.neural_network import MLPClassifier\n",
        "from sklearn.tree import DecisionTreeClassifier\n",
        "from sklearn.ensemble import RandomForestClassifier\n",
        "\n",
        "\n",
        "lr_classifier = LogisticRegression(solver='lbfgs',max_iter=150)\n",
        "mlp_classifier = MLPClassifier(solver='lbfgs',max_iter=150)\n",
        "dt_classifier = DecisionTreeClassifier(random_state=42)\n",
        "rf_classifier = RandomForestClassifier(n_estimators=150, random_state=42)\n",
        "\n",
        "# train our models\n",
        "lr_classifier.fit(train_features2.to_numpy(),train_labels2.to_numpy())\n",
        "mlp_classifier.fit(train_features2.to_numpy(),train_labels2.to_numpy())\n",
        "dt_classifier.fit(train_features2.to_numpy(), train_labels2.to_numpy())\n",
        "rf_classifier.fit(train_features2.to_numpy(), train_labels2.to_numpy())"
      ],
      "metadata": {
        "colab": {
          "base_uri": "https://localhost:8080/",
          "height": 75
        },
        "id": "m_UH2JCYLEcW",
        "outputId": "fec42bef-0bb5-4ec2-bab2-566e0a01e3fb"
      },
      "execution_count": 23,
      "outputs": [
        {
          "output_type": "execute_result",
          "data": {
            "text/plain": [
              "RandomForestClassifier(n_estimators=150, random_state=42)"
            ],
            "text/html": [
              "<style>#sk-container-id-3 {color: black;background-color: white;}#sk-container-id-3 pre{padding: 0;}#sk-container-id-3 div.sk-toggleable {background-color: white;}#sk-container-id-3 label.sk-toggleable__label {cursor: pointer;display: block;width: 100%;margin-bottom: 0;padding: 0.3em;box-sizing: border-box;text-align: center;}#sk-container-id-3 label.sk-toggleable__label-arrow:before {content: \"▸\";float: left;margin-right: 0.25em;color: #696969;}#sk-container-id-3 label.sk-toggleable__label-arrow:hover:before {color: black;}#sk-container-id-3 div.sk-estimator:hover label.sk-toggleable__label-arrow:before {color: black;}#sk-container-id-3 div.sk-toggleable__content {max-height: 0;max-width: 0;overflow: hidden;text-align: left;background-color: #f0f8ff;}#sk-container-id-3 div.sk-toggleable__content pre {margin: 0.2em;color: black;border-radius: 0.25em;background-color: #f0f8ff;}#sk-container-id-3 input.sk-toggleable__control:checked~div.sk-toggleable__content {max-height: 200px;max-width: 100%;overflow: auto;}#sk-container-id-3 input.sk-toggleable__control:checked~label.sk-toggleable__label-arrow:before {content: \"▾\";}#sk-container-id-3 div.sk-estimator input.sk-toggleable__control:checked~label.sk-toggleable__label {background-color: #d4ebff;}#sk-container-id-3 div.sk-label input.sk-toggleable__control:checked~label.sk-toggleable__label {background-color: #d4ebff;}#sk-container-id-3 input.sk-hidden--visually {border: 0;clip: rect(1px 1px 1px 1px);clip: rect(1px, 1px, 1px, 1px);height: 1px;margin: -1px;overflow: hidden;padding: 0;position: absolute;width: 1px;}#sk-container-id-3 div.sk-estimator {font-family: monospace;background-color: #f0f8ff;border: 1px dotted black;border-radius: 0.25em;box-sizing: border-box;margin-bottom: 0.5em;}#sk-container-id-3 div.sk-estimator:hover {background-color: #d4ebff;}#sk-container-id-3 div.sk-parallel-item::after {content: \"\";width: 100%;border-bottom: 1px solid gray;flex-grow: 1;}#sk-container-id-3 div.sk-label:hover label.sk-toggleable__label {background-color: #d4ebff;}#sk-container-id-3 div.sk-serial::before {content: \"\";position: absolute;border-left: 1px solid gray;box-sizing: border-box;top: 0;bottom: 0;left: 50%;z-index: 0;}#sk-container-id-3 div.sk-serial {display: flex;flex-direction: column;align-items: center;background-color: white;padding-right: 0.2em;padding-left: 0.2em;position: relative;}#sk-container-id-3 div.sk-item {position: relative;z-index: 1;}#sk-container-id-3 div.sk-parallel {display: flex;align-items: stretch;justify-content: center;background-color: white;position: relative;}#sk-container-id-3 div.sk-item::before, #sk-container-id-3 div.sk-parallel-item::before {content: \"\";position: absolute;border-left: 1px solid gray;box-sizing: border-box;top: 0;bottom: 0;left: 50%;z-index: -1;}#sk-container-id-3 div.sk-parallel-item {display: flex;flex-direction: column;z-index: 1;position: relative;background-color: white;}#sk-container-id-3 div.sk-parallel-item:first-child::after {align-self: flex-end;width: 50%;}#sk-container-id-3 div.sk-parallel-item:last-child::after {align-self: flex-start;width: 50%;}#sk-container-id-3 div.sk-parallel-item:only-child::after {width: 0;}#sk-container-id-3 div.sk-dashed-wrapped {border: 1px dashed gray;margin: 0 0.4em 0.5em 0.4em;box-sizing: border-box;padding-bottom: 0.4em;background-color: white;}#sk-container-id-3 div.sk-label label {font-family: monospace;font-weight: bold;display: inline-block;line-height: 1.2em;}#sk-container-id-3 div.sk-label-container {text-align: center;}#sk-container-id-3 div.sk-container {/* jupyter's `normalize.less` sets `[hidden] { display: none; }` but bootstrap.min.css set `[hidden] { display: none !important; }` so we also need the `!important` here to be able to override the default hidden behavior on the sphinx rendered scikit-learn.org. See: https://github.com/scikit-learn/scikit-learn/issues/21755 */display: inline-block !important;position: relative;}#sk-container-id-3 div.sk-text-repr-fallback {display: none;}</style><div id=\"sk-container-id-3\" class=\"sk-top-container\"><div class=\"sk-text-repr-fallback\"><pre>RandomForestClassifier(n_estimators=150, random_state=42)</pre><b>In a Jupyter environment, please rerun this cell to show the HTML representation or trust the notebook. <br />On GitHub, the HTML representation is unable to render, please try loading this page with nbviewer.org.</b></div><div class=\"sk-container\" hidden><div class=\"sk-item\"><div class=\"sk-estimator sk-toggleable\"><input class=\"sk-toggleable__control sk-hidden--visually\" id=\"sk-estimator-id-3\" type=\"checkbox\" checked><label for=\"sk-estimator-id-3\" class=\"sk-toggleable__label sk-toggleable__label-arrow\">RandomForestClassifier</label><div class=\"sk-toggleable__content\"><pre>RandomForestClassifier(n_estimators=150, random_state=42)</pre></div></div></div></div></div>"
            ]
          },
          "metadata": {},
          "execution_count": 23
        }
      ]
    },
    {
      "cell_type": "markdown",
      "source": [
        "Test the model with the new variables (V1 to V18) since the heatmap showed that these features are the most correlated."
      ],
      "metadata": {
        "id": "mUC5oboG6saG"
      }
    },
    {
      "cell_type": "markdown",
      "source": [
        "## Accuracy Results Based on Different Classifiers"
      ],
      "metadata": {
        "id": "eR-_EhcP8R8E"
      }
    },
    {
      "cell_type": "code",
      "source": [
        "from sklearn.metrics import accuracy_score\n",
        "\n",
        "test_inputs = test_df[['V1', 'V2', 'V3', 'V4', 'V5', 'V6', 'V7', 'V8', 'V9',\n",
        "                       'V10', 'V11', 'V12', 'V13', 'V14', 'V15', 'V16', 'V17', 'V18']]\n",
        "y_actual = test_df[\"Class\"]\n",
        "\n",
        "#logistic classifer\n",
        "y_predicted_lr = lr_classifier.predict(test_inputs.to_numpy())\n",
        "lr_accuracy_score = accuracy_score(y_predicted_lr,y_actual)\n",
        "\n",
        "\n",
        "#mlp classifier\n",
        "y_predicted_mlp = mlp_classifier.predict(test_inputs.to_numpy())\n",
        "mlp_accuracy_score = accuracy_score(y_predicted_mlp,y_actual)\n",
        "\n",
        "\n",
        "#decision tree\n",
        "y_predicted_dt = dt_classifier.predict(test_inputs.to_numpy())\n",
        "dt_accuracy_score = accuracy_score(y_predicted_dt, y_actual)\n",
        "\n",
        "\n",
        "#random forest\n",
        "y_predicted_rf = rf_classifier.predict(test_inputs.to_numpy())\n",
        "rf_accuracy_score = accuracy_score(y_predicted_rf, y_actual)\n",
        "\n",
        "\n",
        "print (f\"Accuracy of the Logistic Classifier (V1-V18) = {lr_accuracy_score}\")\n",
        "print (f\"Accuracy of the MLP Classifier (V1-V18) = {mlp_accuracy_score}\")\n",
        "print(f\"Accuracy of the Decision Tree Classifier (V1-V18) = {dt_accuracy_score}\")\n",
        "print(f\"Accuracy of the Random Forest Classifier (V1-V18) = {rf_accuracy_score}\")"
      ],
      "metadata": {
        "colab": {
          "base_uri": "https://localhost:8080/"
        },
        "id": "3W8L25xvYsxR",
        "outputId": "3ca13470-789d-45eb-a804-7f612e02abfc"
      },
      "execution_count": 24,
      "outputs": [
        {
          "output_type": "stream",
          "name": "stdout",
          "text": [
            "Accuracy of the Logistic Classifier (V1-V18) = 0.981\n",
            "Accuracy of the MLP Classifier (V1-V18) = 0.971\n",
            "Accuracy of the Decision Tree Classifier (V1-V18) = 0.97\n",
            "Accuracy of the Random Forest Classifier (V1-V18) = 0.985\n"
          ]
        }
      ]
    },
    {
      "cell_type": "markdown",
      "source": [
        "## Class Accuracy Test"
      ],
      "metadata": {
        "id": "CloNwOTaUTxr"
      }
    },
    {
      "cell_type": "code",
      "source": [
        "from sklearn.metrics import classification_report\n",
        "\n",
        "# Logistic Classifier\n",
        "print(\"Logistic Classifier:\")\n",
        "print(classification_report(y_actual, y_predicted_lr))\n",
        "\n",
        "# MLP Classifier\n",
        "print(\"MLP Classifier:\")\n",
        "print(classification_report(y_actual, y_predicted_mlp))\n",
        "\n",
        "# Decision Tree Classifier\n",
        "print(\"Decision Tree Classifier:\")\n",
        "print(classification_report(y_actual, y_predicted_dt))\n",
        "\n",
        "# Random Forest Classifier\n",
        "print(\"Random Forest Classifier:\")\n",
        "print(classification_report(y_actual, y_predicted_rf))\n"
      ],
      "metadata": {
        "colab": {
          "base_uri": "https://localhost:8080/"
        },
        "id": "TXEy24yDN_LC",
        "outputId": "fc5b9701-3389-4e4a-d9b7-327f17c009e4"
      },
      "execution_count": 25,
      "outputs": [
        {
          "output_type": "stream",
          "name": "stdout",
          "text": [
            "Logistic Classifier:\n",
            "              precision    recall  f1-score   support\n",
            "\n",
            "         0.0       0.98      1.00      0.99       892\n",
            "         1.0       1.00      0.82      0.90       108\n",
            "\n",
            "    accuracy                           0.98      1000\n",
            "   macro avg       0.99      0.91      0.95      1000\n",
            "weighted avg       0.98      0.98      0.98      1000\n",
            "\n",
            "MLP Classifier:\n",
            "              precision    recall  f1-score   support\n",
            "\n",
            "         0.0       0.97      0.99      0.98       892\n",
            "         1.0       0.94      0.78      0.85       108\n",
            "\n",
            "    accuracy                           0.97      1000\n",
            "   macro avg       0.96      0.89      0.92      1000\n",
            "weighted avg       0.97      0.97      0.97      1000\n",
            "\n",
            "Decision Tree Classifier:\n",
            "              precision    recall  f1-score   support\n",
            "\n",
            "         0.0       0.98      0.99      0.98       892\n",
            "         1.0       0.89      0.82      0.86       108\n",
            "\n",
            "    accuracy                           0.97      1000\n",
            "   macro avg       0.93      0.91      0.92      1000\n",
            "weighted avg       0.97      0.97      0.97      1000\n",
            "\n",
            "Random Forest Classifier:\n",
            "              precision    recall  f1-score   support\n",
            "\n",
            "         0.0       0.98      1.00      0.99       892\n",
            "         1.0       1.00      0.86      0.93       108\n",
            "\n",
            "    accuracy                           0.98      1000\n",
            "   macro avg       0.99      0.93      0.96      1000\n",
            "weighted avg       0.99      0.98      0.98      1000\n",
            "\n"
          ]
        }
      ]
    },
    {
      "cell_type": "markdown",
      "source": [
        "Based on the classification reports, the logisitc and random forest classifiers had the highest f1-score accuracies."
      ],
      "metadata": {
        "id": "gsAv6H-YOgyc"
      }
    },
    {
      "cell_type": "markdown",
      "source": [
        "##Results:\n",
        "\n",
        "The Random Forest had the highest accuracy. Logistic and MLP classifiers were also highly accurate when using variables V1 to V18. The decision tree had the lowest score as its accuracy and the MLP accuracy decreased compared to the other test with features V1 to V28."
      ],
      "metadata": {
        "id": "dOSdcLQsZkqY"
      }
    },
    {
      "cell_type": "markdown",
      "source": [
        "## Conclusion:\n",
        "\n",
        "We did two tests. The first test was on the features V1 to V28 and the results showed that the Random Forest Classifier has the highest accuracy. The MLP Classifier also showed high accuracy. The Logistic Classifier and the Decision Tree Classifier were slightly lower but it still demonstrated a reasonable performance.\n",
        "\n",
        "The second test was on features V1 to V18 because the heatmap showed that these were the most correlated features. Overall, the Logistic, MLP, and Decision Tree Classifiers did better than the first test. However, the Random Forest was slightly less than the first test. The MLP Classifier did the best with the highest accuracy while the Logistic and Decision Tree Classifiers were slightly lower, but still reasonable.\n",
        "\n",
        "Overall, accuracy is just one metric to determine a model's performance. It is important to consider for future tests to explore additional metrics such as precision, recall, F1 score, and confusion matrices to get a better in depth understanding of the model, especially if there are imbalances with the classes in the dataset. Since the classes were split evenly in half in the dataset, we could suffice with just using accuracy as the metric. Another thing to consider for the future is whether misclassification of costs can influence the models. Some limitations with accuracy is that it is sensitive to data pre-processing, meaning that different pre-processing techiques could lead to different accuracy scores. Another limitation is that it may not fully reflect the real world. For instance, a high accuracy in identifying non-fraudulent cases and a low accuracy in detecting fraudulent cases is not useful in fraud detection."
      ],
      "metadata": {
        "id": "q_GFlyJOj3GX"
      }
    }
  ]
}